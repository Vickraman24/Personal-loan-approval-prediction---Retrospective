{
 "cells": [
  {
   "cell_type": "markdown",
   "id": "70875795",
   "metadata": {},
   "source": [
    "# Importing Lib's"
   ]
  },
  {
   "cell_type": "code",
   "execution_count": 1,
   "id": "0e469669",
   "metadata": {},
   "outputs": [
    {
     "name": "stderr",
     "output_type": "stream",
     "text": [
      "C:\\Users\\GOJO\\AppData\\Local\\Programs\\Python\\Python311\\Lib\\site-packages\\numpy\\_distributor_init.py:30: UserWarning: loaded more than 1 DLL from .libs:\n",
      "C:\\Users\\GOJO\\AppData\\Local\\Programs\\Python\\Python311\\Lib\\site-packages\\numpy\\.libs\\libopenblas.FB5AE2TYXYH2IJRDKGDGQ3XBKLKTF43H.gfortran-win_amd64.dll\n",
      "C:\\Users\\GOJO\\AppData\\Local\\Programs\\Python\\Python311\\Lib\\site-packages\\numpy\\.libs\\libopenblas64__v0.3.21-gcc_10_3_0.dll\n",
      "  warnings.warn(\"loaded more than 1 DLL from .libs:\"\n"
     ]
    }
   ],
   "source": [
    "import pandas as pd\n",
    "import numpy as np\n",
    "import pickle\n",
    "import matplotlib.pyplot as plt\n",
    "%matplotlib inline\n",
    "import seaborn as sna\n",
    "import sklearn\n",
    "from sklearn.tree import DecisionTreeClassifier\n",
    "from sklearn.ensemble import GradientBoostingClassifier, RandomForestClassifier\n",
    "from sklearn.neighbors import KNeighborsClassifier\n",
    "from sklearn.model_selection import RandomizedSearchCV\n",
    "import imblearn\n",
    "from sklearn.model_selection import train_test_split\n",
    "from sklearn.preprocessing import StandardScaler\n",
    "from sklearn.metrics import accuracy_score, classification_report, confusion_matrix, f1_score"
   ]
  },
  {
   "cell_type": "code",
   "execution_count": 2,
   "id": "8a06bfa6",
   "metadata": {},
   "outputs": [
    {
     "data": {
      "text/plain": [
       "'C:\\\\Users\\\\GOJO\\\\Documents\\\\Personal_Loan_Prediction_Approval (Machine Learning )\\\\Training'"
      ]
     },
     "execution_count": 2,
     "metadata": {},
     "output_type": "execute_result"
    }
   ],
   "source": [
    "import os\n",
    "os.getcwd()"
   ]
  },
  {
   "cell_type": "markdown",
   "id": "845e7eed",
   "metadata": {},
   "source": [
    "# Data set"
   ]
  },
  {
   "cell_type": "code",
   "execution_count": 3,
   "id": "7fb39033",
   "metadata": {},
   "outputs": [],
   "source": [
    "Data = pd.read_csv(r\"C:\\\\Users\\\\GOJO\\\\Documents\\\\Personal_Loan_Prediction_Approval (Machine Learning )\\\\DataSet\\\\testData1.csv\")"
   ]
  },
  {
   "cell_type": "code",
   "execution_count": 4,
   "id": "854a752a",
   "metadata": {},
   "outputs": [
    {
     "data": {
      "text/html": [
       "<div>\n",
       "<style scoped>\n",
       "    .dataframe tbody tr th:only-of-type {\n",
       "        vertical-align: middle;\n",
       "    }\n",
       "\n",
       "    .dataframe tbody tr th {\n",
       "        vertical-align: top;\n",
       "    }\n",
       "\n",
       "    .dataframe thead th {\n",
       "        text-align: right;\n",
       "    }\n",
       "</style>\n",
       "<table border=\"1\" class=\"dataframe\">\n",
       "  <thead>\n",
       "    <tr style=\"text-align: right;\">\n",
       "      <th></th>\n",
       "      <th>Loan_ID</th>\n",
       "      <th>Gender</th>\n",
       "      <th>Married</th>\n",
       "      <th>Dependents</th>\n",
       "      <th>Education</th>\n",
       "      <th>Self_Employed</th>\n",
       "      <th>ApplicantIncome</th>\n",
       "      <th>CoapplicantIncome</th>\n",
       "      <th>LoanAmount</th>\n",
       "      <th>Loan_Amount_Term</th>\n",
       "      <th>Credit_History</th>\n",
       "      <th>Property_Area</th>\n",
       "      <th>Loan_Status</th>\n",
       "    </tr>\n",
       "  </thead>\n",
       "  <tbody>\n",
       "    <tr>\n",
       "      <th>0</th>\n",
       "      <td>LP001015</td>\n",
       "      <td>Male</td>\n",
       "      <td>Yes</td>\n",
       "      <td>0</td>\n",
       "      <td>Graduate</td>\n",
       "      <td>No</td>\n",
       "      <td>5720</td>\n",
       "      <td>0</td>\n",
       "      <td>110.0</td>\n",
       "      <td>360.0</td>\n",
       "      <td>1.0</td>\n",
       "      <td>Urban</td>\n",
       "      <td>yes</td>\n",
       "    </tr>\n",
       "    <tr>\n",
       "      <th>1</th>\n",
       "      <td>LP001022</td>\n",
       "      <td>Male</td>\n",
       "      <td>Yes</td>\n",
       "      <td>1</td>\n",
       "      <td>Graduate</td>\n",
       "      <td>No</td>\n",
       "      <td>3076</td>\n",
       "      <td>1500</td>\n",
       "      <td>126.0</td>\n",
       "      <td>360.0</td>\n",
       "      <td>1.0</td>\n",
       "      <td>Urban</td>\n",
       "      <td>yes</td>\n",
       "    </tr>\n",
       "    <tr>\n",
       "      <th>2</th>\n",
       "      <td>LP001031</td>\n",
       "      <td>Male</td>\n",
       "      <td>Yes</td>\n",
       "      <td>2</td>\n",
       "      <td>Graduate</td>\n",
       "      <td>No</td>\n",
       "      <td>5000</td>\n",
       "      <td>1800</td>\n",
       "      <td>208.0</td>\n",
       "      <td>360.0</td>\n",
       "      <td>1.0</td>\n",
       "      <td>Urban</td>\n",
       "      <td>yes</td>\n",
       "    </tr>\n",
       "    <tr>\n",
       "      <th>3</th>\n",
       "      <td>LP001035</td>\n",
       "      <td>Male</td>\n",
       "      <td>Yes</td>\n",
       "      <td>2</td>\n",
       "      <td>Graduate</td>\n",
       "      <td>No</td>\n",
       "      <td>2340</td>\n",
       "      <td>2546</td>\n",
       "      <td>100.0</td>\n",
       "      <td>360.0</td>\n",
       "      <td>NaN</td>\n",
       "      <td>Urban</td>\n",
       "      <td>no</td>\n",
       "    </tr>\n",
       "    <tr>\n",
       "      <th>4</th>\n",
       "      <td>LP001051</td>\n",
       "      <td>Male</td>\n",
       "      <td>No</td>\n",
       "      <td>0</td>\n",
       "      <td>Not Graduate</td>\n",
       "      <td>No</td>\n",
       "      <td>3276</td>\n",
       "      <td>0</td>\n",
       "      <td>78.0</td>\n",
       "      <td>360.0</td>\n",
       "      <td>1.0</td>\n",
       "      <td>Urban</td>\n",
       "      <td>yes</td>\n",
       "    </tr>\n",
       "  </tbody>\n",
       "</table>\n",
       "</div>"
      ],
      "text/plain": [
       "    Loan_ID Gender Married Dependents     Education Self_Employed   \n",
       "0  LP001015   Male     Yes          0      Graduate            No  \\\n",
       "1  LP001022   Male     Yes          1      Graduate            No   \n",
       "2  LP001031   Male     Yes          2      Graduate            No   \n",
       "3  LP001035   Male     Yes          2      Graduate            No   \n",
       "4  LP001051   Male      No          0  Not Graduate            No   \n",
       "\n",
       "   ApplicantIncome  CoapplicantIncome  LoanAmount  Loan_Amount_Term   \n",
       "0             5720                  0       110.0             360.0  \\\n",
       "1             3076               1500       126.0             360.0   \n",
       "2             5000               1800       208.0             360.0   \n",
       "3             2340               2546       100.0             360.0   \n",
       "4             3276                  0        78.0             360.0   \n",
       "\n",
       "   Credit_History Property_Area Loan_Status  \n",
       "0             1.0         Urban         yes  \n",
       "1             1.0         Urban         yes  \n",
       "2             1.0         Urban         yes  \n",
       "3             NaN         Urban          no  \n",
       "4             1.0         Urban         yes  "
      ]
     },
     "execution_count": 4,
     "metadata": {},
     "output_type": "execute_result"
    }
   ],
   "source": [
    "Data.head()"
   ]
  },
  {
   "cell_type": "code",
   "execution_count": 5,
   "id": "945d416b",
   "metadata": {},
   "outputs": [
    {
     "data": {
      "text/plain": [
       "Loan_ID               0\n",
       "Gender               11\n",
       "Married               0\n",
       "Dependents           10\n",
       "Education             0\n",
       "Self_Employed        23\n",
       "ApplicantIncome       0\n",
       "CoapplicantIncome     0\n",
       "LoanAmount            5\n",
       "Loan_Amount_Term      6\n",
       "Credit_History       29\n",
       "Property_Area         0\n",
       "Loan_Status           0\n",
       "dtype: int64"
      ]
     },
     "execution_count": 5,
     "metadata": {},
     "output_type": "execute_result"
    }
   ],
   "source": [
    "Data.isnull().sum()"
   ]
  },
  {
   "cell_type": "code",
   "execution_count": 6,
   "id": "5ad58c13",
   "metadata": {},
   "outputs": [
    {
     "name": "stdout",
     "output_type": "stream",
     "text": [
      "<class 'pandas.core.frame.DataFrame'>\n",
      "RangeIndex: 367 entries, 0 to 366\n",
      "Data columns (total 13 columns):\n",
      " #   Column             Non-Null Count  Dtype  \n",
      "---  ------             --------------  -----  \n",
      " 0   Loan_ID            367 non-null    object \n",
      " 1   Gender             356 non-null    object \n",
      " 2   Married            367 non-null    object \n",
      " 3   Dependents         357 non-null    object \n",
      " 4   Education          367 non-null    object \n",
      " 5   Self_Employed      344 non-null    object \n",
      " 6   ApplicantIncome    367 non-null    int64  \n",
      " 7   CoapplicantIncome  367 non-null    int64  \n",
      " 8   LoanAmount         362 non-null    float64\n",
      " 9   Loan_Amount_Term   361 non-null    float64\n",
      " 10  Credit_History     338 non-null    float64\n",
      " 11  Property_Area      367 non-null    object \n",
      " 12  Loan_Status        367 non-null    object \n",
      "dtypes: float64(3), int64(2), object(8)\n",
      "memory usage: 37.4+ KB\n"
     ]
    }
   ],
   "source": [
    "Data.info()"
   ]
  },
  {
   "cell_type": "markdown",
   "id": "9f84906e",
   "metadata": {},
   "source": [
    "# Handling Missing Data  "
   ]
  },
  {
   "cell_type": "code",
   "execution_count": 7,
   "id": "ffb7a824",
   "metadata": {},
   "outputs": [],
   "source": [
    "Data['Gender'] = Data['Gender'].fillna(Data['Gender'].mode()[0])\n",
    "Data['Dependents'] = Data['Dependents'].str.replace('+','')\n",
    "Data['Dependents'] = Data['Dependents'].fillna(Data['Dependents'].mode()[0])\n",
    "Data['Self_Employed'] = Data['Self_Employed'].fillna(Data['Self_Employed'].mode()[0])\n",
    "Data['LoanAmount'] = Data['LoanAmount'].fillna(Data['LoanAmount'].mode()[0])\n",
    "Data['Loan_Amount_Term'] = Data['Loan_Amount_Term'].fillna(Data['Loan_Amount_Term'].mode()[0])\n",
    "Data['Credit_History'] = Data['Credit_History'].fillna(Data['Credit_History'].mode()[0])"
   ]
  },
  {
   "cell_type": "code",
   "execution_count": 8,
   "id": "96093245",
   "metadata": {},
   "outputs": [],
   "source": [
    "Data['Married'] = Data['Married'].fillna(Data['Married'].mode()[0])"
   ]
  },
  {
   "cell_type": "code",
   "execution_count": 9,
   "id": "dbed3729",
   "metadata": {},
   "outputs": [
    {
     "data": {
      "text/plain": [
       "Loan_ID              0\n",
       "Gender               0\n",
       "Married              0\n",
       "Dependents           0\n",
       "Education            0\n",
       "Self_Employed        0\n",
       "ApplicantIncome      0\n",
       "CoapplicantIncome    0\n",
       "LoanAmount           0\n",
       "Loan_Amount_Term     0\n",
       "Credit_History       0\n",
       "Property_Area        0\n",
       "Loan_Status          0\n",
       "dtype: int64"
      ]
     },
     "execution_count": 9,
     "metadata": {},
     "output_type": "execute_result"
    }
   ],
   "source": [
    "Data.isnull().sum()"
   ]
  },
  {
   "cell_type": "code",
   "execution_count": 10,
   "id": "3090a9d7",
   "metadata": {},
   "outputs": [],
   "source": [
    "Data['LoanAmount']=Data['LoanAmount'].astype('int64')\n",
    "\n",
    "Data['Loan_Amount_Term']=Data['Loan_Amount_Term'].astype('int64')\n",
    "\n",
    "Data['Credit_History']=Data['Credit_History'].astype('int64')\n"
   ]
  },
  {
   "cell_type": "code",
   "execution_count": 11,
   "id": "40a63d51",
   "metadata": {},
   "outputs": [],
   "source": [
    "from imblearn.combine import SMOTETomek\n",
    "smote = SMOTETomek()"
   ]
  },
  {
   "cell_type": "code",
   "execution_count": 12,
   "id": "ff7e3ee7",
   "metadata": {},
   "outputs": [
    {
     "data": {
      "text/plain": [
       "array([['Male', 'Yes', '0', ..., 110, 360, 1],\n",
       "       ['Male', 'Yes', '1', ..., 126, 360, 1],\n",
       "       ['Male', 'Yes', '2', ..., 208, 360, 1],\n",
       "       ...,\n",
       "       ['Male', 'No', '0', ..., 126, 360, 1],\n",
       "       ['Male', 'Yes', '0', ..., 158, 360, 1],\n",
       "       ['Male', 'No', '0', ..., 98, 180, 1]], dtype=object)"
      ]
     },
     "execution_count": 12,
     "metadata": {},
     "output_type": "execute_result"
    }
   ],
   "source": [
    "x = Data.iloc[:,1:11].values\n",
    "y = Data.iloc[:,-1].values\n",
    "x\n"
   ]
  },
  {
   "cell_type": "code",
   "execution_count": 13,
   "id": "665a35be",
   "metadata": {},
   "outputs": [
    {
     "name": "stderr",
     "output_type": "stream",
     "text": [
      "C:\\Users\\GOJO\\AppData\\Local\\Programs\\Python\\Python311\\Lib\\site-packages\\sklearn\\preprocessing\\_label.py:116: DataConversionWarning: A column-vector y was passed when a 1d array was expected. Please change the shape of y to (n_samples, ), for example using ravel().\n",
      "  y = column_or_1d(y, warn=True)\n",
      "C:\\Users\\GOJO\\AppData\\Local\\Programs\\Python\\Python311\\Lib\\site-packages\\sklearn\\preprocessing\\_label.py:116: DataConversionWarning: A column-vector y was passed when a 1d array was expected. Please change the shape of y to (n_samples, ), for example using ravel().\n",
      "  y = column_or_1d(y, warn=True)\n",
      "C:\\Users\\GOJO\\AppData\\Local\\Programs\\Python\\Python311\\Lib\\site-packages\\sklearn\\preprocessing\\_label.py:116: DataConversionWarning: A column-vector y was passed when a 1d array was expected. Please change the shape of y to (n_samples, ), for example using ravel().\n",
      "  y = column_or_1d(y, warn=True)\n",
      "C:\\Users\\GOJO\\AppData\\Local\\Programs\\Python\\Python311\\Lib\\site-packages\\sklearn\\preprocessing\\_label.py:116: DataConversionWarning: A column-vector y was passed when a 1d array was expected. Please change the shape of y to (n_samples, ), for example using ravel().\n",
      "  y = column_or_1d(y, warn=True)\n"
     ]
    }
   ],
   "source": [
    "Gen = Data.iloc[:,1].values\n",
    "Ed = Data.loc[:,['Education']]\n",
    "\n",
    "AI = Data.loc[:,['ApplicantIncome']]\n",
    "CH = Data.loc[:,['Credit_History']]\n",
    "\n",
    "Ma = Data.loc[:,['Married']]\n",
    "SE = Data.loc[:,['Self_Employed']]\n",
    "LA = Data.loc[:,['LoanAmount']]\n",
    "PA = Data.loc[:,['Property_Area']]\n",
    "\n",
    "from sklearn.preprocessing import LabelEncoder\n",
    "le = LabelEncoder()\n",
    "\n",
    "Gen = le.fit_transform(Gen)\n",
    "Gen\n",
    "Ma = le.fit_transform(Ma)\n",
    "SE = le.fit_transform(SE)\n",
    "PA = le.fit_transform(PA)\n",
    "Ed = le.fit_transform(Ed)\n",
    "\n"
   ]
  },
  {
   "cell_type": "code",
   "execution_count": 14,
   "id": "abfc2897",
   "metadata": {},
   "outputs": [
    {
     "data": {
      "text/plain": [
       "array([[0.0, 1.0, 'Male', ..., 110, 360, 1],\n",
       "       [0.0, 1.0, 'Male', ..., 126, 360, 1],\n",
       "       [0.0, 1.0, 'Male', ..., 208, 360, 1],\n",
       "       ...,\n",
       "       [1.0, 0.0, 'Male', ..., 126, 360, 1],\n",
       "       [0.0, 1.0, 'Male', ..., 158, 360, 1],\n",
       "       [1.0, 0.0, 'Male', ..., 98, 180, 1]], dtype=object)"
      ]
     },
     "execution_count": 14,
     "metadata": {},
     "output_type": "execute_result"
    }
   ],
   "source": [
    "from sklearn.compose import ColumnTransformer\n",
    "from sklearn.preprocessing import OneHotEncoder\n",
    "ct = ColumnTransformer(transformers=[('encoder',OneHotEncoder(), [1])], remainder= 'passthrough')\n",
    "x = np.array(ct.fit_transform(x))\n",
    "x"
   ]
  },
  {
   "cell_type": "code",
   "execution_count": 15,
   "id": "88f51777",
   "metadata": {},
   "outputs": [
    {
     "data": {
      "text/plain": [
       "array([[0, 1, 1, ..., 52, 10, 1],\n",
       "       [0, 1, 1, ..., 67, 10, 1],\n",
       "       [0, 1, 1, ..., 119, 10, 1],\n",
       "       ...,\n",
       "       [1, 0, 1, ..., 67, 10, 1],\n",
       "       [0, 1, 1, ..., 94, 10, 1],\n",
       "       [1, 0, 1, ..., 40, 6, 1]], dtype=object)"
      ]
     },
     "execution_count": 15,
     "metadata": {},
     "output_type": "execute_result"
    }
   ],
   "source": [
    "from sklearn.preprocessing import LabelEncoder\n",
    "le = LabelEncoder()\n",
    "x[:,0] = le.fit_transform(x[:,0])\n",
    "x[:,1] = le.fit_transform(x[:,1])\n",
    "x[:,2] = le.fit_transform(x[:,2])\n",
    "x[:,3] = le.fit_transform(x[:,3])\n",
    "x[:,4] = le.fit_transform(x[:,4])\n",
    "x[:,5] = le.fit_transform(x[:,5])\n",
    "x[:,6] = le.fit_transform(x[:,6])\n",
    "x[:,7] = le.fit_transform(x[:,7])\n",
    "x[:,8] = le.fit_transform(x[:,8])\n",
    "x[:,9] = le.fit_transform(x[:,9])\n",
    "x[:,10] = le.fit_transform(x[:,10])\n",
    "x\n"
   ]
  },
  {
   "cell_type": "code",
   "execution_count": 16,
   "id": "8252d595",
   "metadata": {},
   "outputs": [
    {
     "data": {
      "text/plain": [
       "367"
      ]
     },
     "execution_count": 16,
     "metadata": {},
     "output_type": "execute_result"
    }
   ],
   "source": [
    "x=x.astype('int64')\n",
    "x.shape[0]\n"
   ]
  },
  {
   "cell_type": "code",
   "execution_count": 17,
   "id": "94b19bb1",
   "metadata": {},
   "outputs": [
    {
     "data": {
      "text/plain": [
       "367"
      ]
     },
     "execution_count": 17,
     "metadata": {},
     "output_type": "execute_result"
    }
   ],
   "source": [
    "y = le.fit_transform(y)\n",
    "y.shape[0]"
   ]
  },
  {
   "cell_type": "code",
   "execution_count": null,
   "id": "7e459c33",
   "metadata": {},
   "outputs": [],
   "source": []
  },
  {
   "cell_type": "markdown",
   "id": "a0defcd8",
   "metadata": {},
   "source": [
    "# Univariate analysis"
   ]
  },
  {
   "cell_type": "code",
   "execution_count": 18,
   "id": "509ec58e",
   "metadata": {},
   "outputs": [
    {
     "name": "stderr",
     "output_type": "stream",
     "text": [
      "C:\\Users\\GOJO\\AppData\\Local\\Temp\\ipykernel_1636\\3880126379.py:3: UserWarning: \n",
      "\n",
      "`distplot` is a deprecated function and will be removed in seaborn v0.14.0.\n",
      "\n",
      "Please adapt your code to use either `displot` (a figure-level function with\n",
      "similar flexibility) or `histplot` (an axes-level function for histograms).\n",
      "\n",
      "For a guide to updating your code to use the new functions, please see\n",
      "https://gist.github.com/mwaskom/de44147ed2974457ad6372750bbe5751\n",
      "\n",
      "  sna.distplot(AI, color='r')\n",
      "C:\\Users\\GOJO\\AppData\\Local\\Temp\\ipykernel_1636\\3880126379.py:5: UserWarning: \n",
      "\n",
      "`distplot` is a deprecated function and will be removed in seaborn v0.14.0.\n",
      "\n",
      "Please adapt your code to use either `displot` (a figure-level function with\n",
      "similar flexibility) or `histplot` (an axes-level function for histograms).\n",
      "\n",
      "For a guide to updating your code to use the new functions, please see\n",
      "https://gist.github.com/mwaskom/de44147ed2974457ad6372750bbe5751\n",
      "\n",
      "  sna.distplot(CH)\n"
     ]
    },
    {
     "data": {
      "image/png": "[encoded data removed]",
      "text/plain": [
       "<Figure size 1200x500 with 2 Axes>"
      ]
     },
     "metadata": {},
     "output_type": "display_data"
    }
   ],
   "source": [
    "plt.figure(figsize=(12,5))\n",
    "plt.subplot(121)\n",
    "sna.distplot(AI, color='r')\n",
    "plt.subplot(122)\n",
    "sna.distplot(CH)\n",
    "plt.show()"
   ]
  },
  {
   "cell_type": "markdown",
   "id": "93292c93",
   "metadata": {},
   "source": [
    "# Bivariate analysis"
   ]
  },
  {
   "cell_type": "code",
   "execution_count": 19,
   "id": "0d3ae2bc",
   "metadata": {},
   "outputs": [
    {
     "data": {
      "image/png": "[encoded data removed]",
      "text/plain": [
       "<Figure size 1800x400 with 2 Axes>"
      ]
     },
     "metadata": {},
     "output_type": "display_data"
    }
   ],
   "source": [
    "plt.figure(figsize=(18,4))\n",
    "plt.subplot(1,4,1)\n",
    "sna.countplot(Gen)\n",
    "plt.subplot(1,4,2)\n",
    "sna.countplot(Ed)\n",
    "plt.show()\n"
   ]
  },
  {
   "cell_type": "code",
   "execution_count": 20,
   "id": "74b60ad9",
   "metadata": {},
   "outputs": [
    {
     "data": {
      "text/plain": [
       "<Axes: xlabel='Property_Area', ylabel='count'>"
      ]
     },
     "execution_count": 20,
     "metadata": {},
     "output_type": "execute_result"
    },
    {
     "data": {
      "image/png": "[encoded data removed]",
      "text/plain": [
       "<Figure size 2000x500 with 3 Axes>"
      ]
     },
     "metadata": {},
     "output_type": "display_data"
    }
   ],
   "source": [
    "plt.figure(figsize=(20,5))\n",
    "plt.subplot(131)\n",
    "sna.countplot(x=Data['Married'], hue=Data['Gender'])\n",
    "plt.subplot(132)\n",
    "sna.countplot(x=Data['Self_Employed'], hue=Data['Education'])\n",
    "plt.subplot(133)\n",
    "sna.countplot(x=Data['Property_Area'], hue=Data['Loan_Amount_Term'])\n"
   ]
  },
  {
   "cell_type": "markdown",
   "id": "678e03d9",
   "metadata": {},
   "source": [
    "# Multivariate analysis"
   ]
  },
  {
   "cell_type": "code",
   "execution_count": 51,
   "id": "c9fcf3d2",
   "metadata": {},
   "outputs": [
    {
     "name": "stderr",
     "output_type": "stream",
     "text": [
      "C:\\Users\\GOJO\\AppData\\Local\\Programs\\Python\\Python311\\Lib\\site-packages\\seaborn\\categorical.py:3544: UserWarning: 29.6% of the points cannot be placed; you may want to decrease the size of the markers or use stripplot.\n",
      "  warnings.warn(msg, UserWarning)\n"
     ]
    },
    {
     "data": {
      "text/plain": [
       "<Axes: xlabel='Gender', ylabel='ApplicantIncome'>"
      ]
     },
     "execution_count": 51,
     "metadata": {},
     "output_type": "execute_result"
    },
    {
     "name": "stderr",
     "output_type": "stream",
     "text": [
      "C:\\Users\\GOJO\\AppData\\Local\\Programs\\Python\\Python311\\Lib\\site-packages\\seaborn\\categorical.py:3544: UserWarning: 49.2% of the points cannot be placed; you may want to decrease the size of the markers or use stripplot.\n",
      "  warnings.warn(msg, UserWarning)\n"
     ]
    },
    {
     "data": {
      "image/png": "[encoded data removed]",
      "text/plain": [
       "<Figure size 640x480 with 1 Axes>"
      ]
     },
     "metadata": {},
     "output_type": "display_data"
    }
   ],
   "source": [
    "sna.swarmplot(x=Data['Gender'], y=Data['ApplicantIncome'], hue= Data['Loan_Status'])"
   ]
  },
  {
   "cell_type": "markdown",
   "id": "61fcb08d",
   "metadata": {},
   "source": [
    "# Train Test Split"
   ]
  },
  {
   "cell_type": "code",
   "execution_count": 22,
   "id": "0fcda088",
   "metadata": {},
   "outputs": [],
   "source": [
    "sc = StandardScaler()\n"
   ]
  },
  {
   "cell_type": "code",
   "execution_count": 23,
   "id": "7ea50d53",
   "metadata": {},
   "outputs": [],
   "source": [
    "X_train, X_test, y_train, y_test = train_test_split(\n",
    "x, y, test_size=0.33, random_state=42)\n"
   ]
  },
  {
   "cell_type": "code",
   "execution_count": 24,
   "id": "1932c5e2",
   "metadata": {},
   "outputs": [],
   "source": [
    "def decisionTree(X_train, X_test, y_train, y_test):\n",
    "    dt=DecisionTreeClassifier()\n",
    "    dt.fit(X_train,y_train)\n",
    "    yPred= dt.predict(X_test)\n",
    "    print('***DecisionTreeClassifier***')\n",
    "    print('Confusion matrix')\n",
    "    print(confusion_matrix(y_test,yPred))\n",
    "    print('Classification report')\n",
    "    print(classification_report(y_test,yPred))\n",
    "    "
   ]
  },
  {
   "cell_type": "code",
   "execution_count": 25,
   "id": "b9170b7b",
   "metadata": {},
   "outputs": [],
   "source": [
    "def randomForest(X_train,X_test,y_train,y_test):\n",
    "    rf = RandomForestClassifier()\n",
    "    rf.fit(X_train,y_train)\n",
    "    yPred = rf.predict(X_test)\n",
    "    print('******RandomForestClassifier*****')\n",
    "    print('Confusion matrix')\n",
    "    print(confusion_matrix(y_test,yPred))\n",
    "    print('Classification report')\n",
    "    print(classification_report(y_test,yPred))\n",
    "    "
   ]
  },
  {
   "cell_type": "code",
   "execution_count": 26,
   "id": "1f1d013e",
   "metadata": {},
   "outputs": [],
   "source": [
    "def KNN(X_train,X_test,y_train,y_test):\n",
    "    Knn = KNeighborsClassifier()\n",
    "    Knn.fit(X_train,y_train)\n",
    "    yPred = Knn.predict(X_test)\n",
    "    print('******KNeighborsClassifier*****')\n",
    "    print('Confusion matrix')\n",
    "    print(confusion_matrix(y_test,yPred))\n",
    "    print('Classification report')\n",
    "    print(classification_report(y_test,yPred))\n",
    "    "
   ]
  },
  {
   "cell_type": "code",
   "execution_count": 27,
   "id": "fea8933f",
   "metadata": {},
   "outputs": [],
   "source": [
    "def xgboost(X_train,X_test,y_train,y_test):\n",
    "    xg = GradiantBoostingClassifier()\n",
    "    xg.fit(X_train,y_train)\n",
    "    yPred = xg.predict(X_test)\n",
    "    print('******GradiantBoostingClassifier*****')\n",
    "    print('Confusion matrix')\n",
    "    print(confusion_matrix(y_test,yPred))\n",
    "    print('Classification report')\n",
    "    print(classification_report(y_test,yPred))\n",
    "    "
   ]
  },
  {
   "cell_type": "markdown",
   "id": "f72e8651",
   "metadata": {},
   "source": [
    "# Training The  Model"
   ]
  },
  {
   "cell_type": "code",
   "execution_count": 28,
   "id": "039e6d4e",
   "metadata": {},
   "outputs": [],
   "source": [
    "import tensorflow \n",
    "from tensorflow.keras.models import Sequential\n",
    "from tensorflow.keras.layers import Dense\n"
   ]
  },
  {
   "cell_type": "code",
   "execution_count": 29,
   "id": "e591cab7",
   "metadata": {},
   "outputs": [],
   "source": [
    "classifier = Sequential()\n",
    "classifier.add(Dense(units=100, activation='relu', input_dim=11))\n"
   ]
  },
  {
   "cell_type": "code",
   "execution_count": 30,
   "id": "67910d66",
   "metadata": {},
   "outputs": [],
   "source": [
    "classifier.add(Dense(units=50, activation='relu'))"
   ]
  },
  {
   "cell_type": "code",
   "execution_count": 31,
   "id": "7538e039",
   "metadata": {},
   "outputs": [],
   "source": [
    "classifier.add(Dense(units=1, activation='sigmoid'))\n"
   ]
  },
  {
   "cell_type": "code",
   "execution_count": 32,
   "id": "ace27211",
   "metadata": {},
   "outputs": [],
   "source": [
    "classifier.compile(\n",
    "    optimizer = 'adam',\n",
    "    loss = 'binary_crossentropy',\n",
    "    metrics = ['accuracy'])\n"
   ]
  },
  {
   "cell_type": "code",
   "execution_count": 33,
   "id": "5ac7b48c",
   "metadata": {},
   "outputs": [
    {
     "name": "stdout",
     "output_type": "stream",
     "text": [
      "Epoch 1/100\n",
      "8/8 [==============================] - 6s 23ms/step - loss: 1.0106 - accuracy: 0.6898\n",
      "Epoch 2/100\n",
      "8/8 [==============================] - 0s 12ms/step - loss: 0.7580 - accuracy: 0.8122\n",
      "Epoch 3/100\n",
      "8/8 [==============================] - 0s 10ms/step - loss: 0.6391 - accuracy: 0.7265\n",
      "Epoch 4/100\n",
      "8/8 [==============================] - 0s 14ms/step - loss: 0.5335 - accuracy: 0.7918\n",
      "Epoch 5/100\n",
      "8/8 [==============================] - 0s 12ms/step - loss: 0.5273 - accuracy: 0.8163\n",
      "Epoch 6/100\n",
      "8/8 [==============================] - 0s 8ms/step - loss: 0.5022 - accuracy: 0.8367\n",
      "Epoch 7/100\n",
      "8/8 [==============================] - 0s 13ms/step - loss: 0.6019 - accuracy: 0.7918\n",
      "Epoch 8/100\n",
      "8/8 [==============================] - 0s 9ms/step - loss: 0.5977 - accuracy: 0.8082\n",
      "Epoch 9/100\n",
      "8/8 [==============================] - 0s 11ms/step - loss: 0.5062 - accuracy: 0.8082\n",
      "Epoch 10/100\n",
      "8/8 [==============================] - 0s 10ms/step - loss: 0.4588 - accuracy: 0.8449\n",
      "Epoch 11/100\n",
      "8/8 [==============================] - 0s 11ms/step - loss: 0.4332 - accuracy: 0.8367\n",
      "Epoch 12/100\n",
      "8/8 [==============================] - 0s 14ms/step - loss: 0.4020 - accuracy: 0.8490\n",
      "Epoch 13/100\n",
      "8/8 [==============================] - 0s 7ms/step - loss: 0.4133 - accuracy: 0.8449\n",
      "Epoch 14/100\n",
      "8/8 [==============================] - 0s 15ms/step - loss: 0.4071 - accuracy: 0.8408\n",
      "Epoch 15/100\n",
      "8/8 [==============================] - 0s 11ms/step - loss: 0.4127 - accuracy: 0.8327\n",
      "Epoch 16/100\n",
      "8/8 [==============================] - 0s 17ms/step - loss: 0.4368 - accuracy: 0.8408\n",
      "Epoch 17/100\n",
      "8/8 [==============================] - 0s 10ms/step - loss: 0.3914 - accuracy: 0.8531\n",
      "Epoch 18/100\n",
      "8/8 [==============================] - 0s 7ms/step - loss: 0.4683 - accuracy: 0.8245\n",
      "Epoch 19/100\n",
      "8/8 [==============================] - 0s 13ms/step - loss: 0.4166 - accuracy: 0.8367\n",
      "Epoch 20/100\n",
      "8/8 [==============================] - 0s 8ms/step - loss: 0.3836 - accuracy: 0.8612\n",
      "Epoch 21/100\n",
      "8/8 [==============================] - 0s 7ms/step - loss: 0.4149 - accuracy: 0.8408\n",
      "Epoch 22/100\n",
      "8/8 [==============================] - 0s 8ms/step - loss: 0.4330 - accuracy: 0.8286\n",
      "Epoch 23/100\n",
      "8/8 [==============================] - 0s 13ms/step - loss: 0.5237 - accuracy: 0.8327\n",
      "Epoch 24/100\n",
      "8/8 [==============================] - 0s 7ms/step - loss: 0.5452 - accuracy: 0.8408\n",
      "Epoch 25/100\n",
      "8/8 [==============================] - 0s 14ms/step - loss: 0.5014 - accuracy: 0.7673\n",
      "Epoch 26/100\n",
      "8/8 [==============================] - 0s 10ms/step - loss: 0.4272 - accuracy: 0.8490\n",
      "Epoch 27/100\n",
      "8/8 [==============================] - 0s 10ms/step - loss: 0.4499 - accuracy: 0.8571\n",
      "Epoch 28/100\n",
      "8/8 [==============================] - 0s 9ms/step - loss: 0.3771 - accuracy: 0.8571\n",
      "Epoch 29/100\n",
      "8/8 [==============================] - 0s 13ms/step - loss: 0.3672 - accuracy: 0.8531\n",
      "Epoch 30/100\n",
      "8/8 [==============================] - 0s 12ms/step - loss: 0.3612 - accuracy: 0.8571\n",
      "Epoch 31/100\n",
      "8/8 [==============================] - 0s 8ms/step - loss: 0.3774 - accuracy: 0.8653\n",
      "Epoch 32/100\n",
      "8/8 [==============================] - 0s 7ms/step - loss: 0.3623 - accuracy: 0.8531\n",
      "Epoch 33/100\n",
      "8/8 [==============================] - 0s 11ms/step - loss: 0.3466 - accuracy: 0.8653\n",
      "Epoch 34/100\n",
      "8/8 [==============================] - 0s 12ms/step - loss: 0.3458 - accuracy: 0.8694\n",
      "Epoch 35/100\n",
      "8/8 [==============================] - 0s 13ms/step - loss: 0.3447 - accuracy: 0.8612\n",
      "Epoch 36/100\n",
      "8/8 [==============================] - 0s 11ms/step - loss: 0.4159 - accuracy: 0.8490\n",
      "Epoch 37/100\n",
      "8/8 [==============================] - 0s 9ms/step - loss: 0.3784 - accuracy: 0.8571\n",
      "Epoch 38/100\n",
      "8/8 [==============================] - 0s 11ms/step - loss: 0.3666 - accuracy: 0.8653\n",
      "Epoch 39/100\n",
      "8/8 [==============================] - 0s 6ms/step - loss: 0.3606 - accuracy: 0.8653\n",
      "Epoch 40/100\n",
      "8/8 [==============================] - 0s 9ms/step - loss: 0.3588 - accuracy: 0.8653\n",
      "Epoch 41/100\n",
      "8/8 [==============================] - 0s 7ms/step - loss: 0.3351 - accuracy: 0.8694\n",
      "Epoch 42/100\n",
      "8/8 [==============================] - 0s 13ms/step - loss: 0.3515 - accuracy: 0.8571\n",
      "Epoch 43/100\n",
      "8/8 [==============================] - 0s 9ms/step - loss: 0.3159 - accuracy: 0.8653\n",
      "Epoch 44/100\n",
      "8/8 [==============================] - 0s 10ms/step - loss: 0.3694 - accuracy: 0.8531\n",
      "Epoch 45/100\n",
      "8/8 [==============================] - 0s 10ms/step - loss: 0.3970 - accuracy: 0.8612\n",
      "Epoch 46/100\n",
      "8/8 [==============================] - 0s 8ms/step - loss: 0.3671 - accuracy: 0.8735\n",
      "Epoch 47/100\n",
      "8/8 [==============================] - 0s 9ms/step - loss: 0.3601 - accuracy: 0.8612\n",
      "Epoch 48/100\n",
      "8/8 [==============================] - 0s 13ms/step - loss: 0.4194 - accuracy: 0.8449\n",
      "Epoch 49/100\n",
      "8/8 [==============================] - 0s 10ms/step - loss: 0.4214 - accuracy: 0.8367\n",
      "Epoch 50/100\n",
      "8/8 [==============================] - 0s 7ms/step - loss: 0.4569 - accuracy: 0.8286\n",
      "Epoch 51/100\n",
      "8/8 [==============================] - 0s 7ms/step - loss: 0.5562 - accuracy: 0.7755\n",
      "Epoch 52/100\n",
      "8/8 [==============================] - 0s 8ms/step - loss: 0.5294 - accuracy: 0.8286\n",
      "Epoch 53/100\n",
      "8/8 [==============================] - 0s 8ms/step - loss: 0.4620 - accuracy: 0.8449\n",
      "Epoch 54/100\n",
      "8/8 [==============================] - 0s 10ms/step - loss: 0.5579 - accuracy: 0.8122\n",
      "Epoch 55/100\n",
      "8/8 [==============================] - 0s 9ms/step - loss: 0.4037 - accuracy: 0.8449\n",
      "Epoch 56/100\n",
      "8/8 [==============================] - 0s 7ms/step - loss: 0.3552 - accuracy: 0.8735\n",
      "Epoch 57/100\n",
      "8/8 [==============================] - 0s 10ms/step - loss: 0.3367 - accuracy: 0.8776\n",
      "Epoch 58/100\n",
      "8/8 [==============================] - 0s 10ms/step - loss: 0.3400 - accuracy: 0.8653\n",
      "Epoch 59/100\n",
      "8/8 [==============================] - 0s 9ms/step - loss: 0.3303 - accuracy: 0.8571\n",
      "Epoch 60/100\n",
      "8/8 [==============================] - 0s 8ms/step - loss: 0.3203 - accuracy: 0.8898\n",
      "Epoch 61/100\n",
      "8/8 [==============================] - 0s 9ms/step - loss: 0.3121 - accuracy: 0.8735\n",
      "Epoch 62/100\n",
      "8/8 [==============================] - 0s 7ms/step - loss: 0.3421 - accuracy: 0.8735\n",
      "Epoch 63/100\n",
      "8/8 [==============================] - 0s 7ms/step - loss: 0.3106 - accuracy: 0.8857\n",
      "Epoch 64/100\n",
      "8/8 [==============================] - 0s 8ms/step - loss: 0.3102 - accuracy: 0.8816\n",
      "Epoch 65/100\n",
      "8/8 [==============================] - 0s 8ms/step - loss: 0.3134 - accuracy: 0.8816\n",
      "Epoch 66/100\n",
      "8/8 [==============================] - 0s 7ms/step - loss: 0.2847 - accuracy: 0.8898\n",
      "Epoch 67/100\n",
      "8/8 [==============================] - 0s 7ms/step - loss: 0.2778 - accuracy: 0.8939\n",
      "Epoch 68/100\n",
      "8/8 [==============================] - 0s 9ms/step - loss: 0.3087 - accuracy: 0.8816\n",
      "Epoch 69/100\n",
      "8/8 [==============================] - 0s 10ms/step - loss: 0.2945 - accuracy: 0.8980\n",
      "Epoch 70/100\n",
      "8/8 [==============================] - 0s 7ms/step - loss: 0.2999 - accuracy: 0.8694\n",
      "Epoch 71/100\n",
      "8/8 [==============================] - 0s 7ms/step - loss: 0.3194 - accuracy: 0.8980\n",
      "Epoch 72/100\n",
      "8/8 [==============================] - 0s 11ms/step - loss: 0.3025 - accuracy: 0.8857\n",
      "Epoch 73/100\n",
      "8/8 [==============================] - 0s 7ms/step - loss: 0.2834 - accuracy: 0.8776\n",
      "Epoch 74/100\n",
      "8/8 [==============================] - 0s 8ms/step - loss: 0.3042 - accuracy: 0.8939\n",
      "Epoch 75/100\n",
      "8/8 [==============================] - 0s 9ms/step - loss: 0.3433 - accuracy: 0.8776\n",
      "Epoch 76/100\n",
      "8/8 [==============================] - 0s 10ms/step - loss: 0.3639 - accuracy: 0.8490\n",
      "Epoch 77/100\n",
      "8/8 [==============================] - 0s 8ms/step - loss: 0.3106 - accuracy: 0.8735\n",
      "Epoch 78/100\n",
      "8/8 [==============================] - 0s 7ms/step - loss: 0.3033 - accuracy: 0.8898\n",
      "Epoch 79/100\n",
      "8/8 [==============================] - 0s 8ms/step - loss: 0.2834 - accuracy: 0.8816\n",
      "Epoch 80/100\n",
      "8/8 [==============================] - 0s 7ms/step - loss: 0.2947 - accuracy: 0.8898\n",
      "Epoch 81/100\n",
      "8/8 [==============================] - 0s 7ms/step - loss: 0.3077 - accuracy: 0.9020\n",
      "Epoch 82/100\n",
      "8/8 [==============================] - 0s 7ms/step - loss: 0.2930 - accuracy: 0.8857\n",
      "Epoch 83/100\n",
      "8/8 [==============================] - 0s 9ms/step - loss: 0.2595 - accuracy: 0.9184\n",
      "Epoch 84/100\n"
     ]
    },
    {
     "name": "stdout",
     "output_type": "stream",
     "text": [
      "8/8 [==============================] - 0s 7ms/step - loss: 0.3268 - accuracy: 0.8980\n",
      "Epoch 85/100\n",
      "8/8 [==============================] - 0s 7ms/step - loss: 0.4605 - accuracy: 0.8571\n",
      "Epoch 86/100\n",
      "8/8 [==============================] - 0s 9ms/step - loss: 0.3322 - accuracy: 0.8816\n",
      "Epoch 87/100\n",
      "8/8 [==============================] - 0s 7ms/step - loss: 0.3475 - accuracy: 0.8694\n",
      "Epoch 88/100\n",
      "8/8 [==============================] - 0s 11ms/step - loss: 0.2736 - accuracy: 0.8939\n",
      "Epoch 89/100\n",
      "8/8 [==============================] - 0s 10ms/step - loss: 0.2727 - accuracy: 0.9020\n",
      "Epoch 90/100\n",
      "8/8 [==============================] - 0s 7ms/step - loss: 0.3060 - accuracy: 0.8980\n",
      "Epoch 91/100\n",
      "8/8 [==============================] - 0s 8ms/step - loss: 0.2708 - accuracy: 0.9020\n",
      "Epoch 92/100\n",
      "8/8 [==============================] - 0s 9ms/step - loss: 0.2669 - accuracy: 0.8939\n",
      "Epoch 93/100\n",
      "8/8 [==============================] - 0s 7ms/step - loss: 0.2636 - accuracy: 0.8980\n",
      "Epoch 94/100\n",
      "8/8 [==============================] - 0s 9ms/step - loss: 0.2652 - accuracy: 0.9061\n",
      "Epoch 95/100\n",
      "8/8 [==============================] - 0s 12ms/step - loss: 0.2589 - accuracy: 0.9102\n",
      "Epoch 96/100\n",
      "8/8 [==============================] - 0s 7ms/step - loss: 0.2645 - accuracy: 0.9102\n",
      "Epoch 97/100\n",
      "8/8 [==============================] - 0s 7ms/step - loss: 0.2903 - accuracy: 0.8898\n",
      "Epoch 98/100\n",
      "8/8 [==============================] - 0s 10ms/step - loss: 0.2843 - accuracy: 0.8939\n",
      "Epoch 99/100\n",
      "8/8 [==============================] - 0s 10ms/step - loss: 0.3358 - accuracy: 0.8857\n",
      "Epoch 100/100\n",
      "8/8 [==============================] - 0s 7ms/step - loss: 0.3388 - accuracy: 0.8735\n"
     ]
    },
    {
     "data": {
      "text/plain": [
       "<keras.callbacks.History at 0x21b20068c50>"
      ]
     },
     "execution_count": 33,
     "metadata": {},
     "output_type": "execute_result"
    }
   ],
   "source": [
    "classifier.fit(X_train,\n",
    "              y_train,\n",
    "              batch_size= 32,\n",
    "              epochs=100)"
   ]
  },
  {
   "cell_type": "markdown",
   "id": "c8d6b72a",
   "metadata": {},
   "source": [
    "# Testing the model"
   ]
  },
  {
   "cell_type": "code",
   "execution_count": 34,
   "id": "3bdb8f1f",
   "metadata": {},
   "outputs": [
    {
     "data": {
      "text/plain": [
       "array([[  0,   1,   1, ..., 115,  10,   1],\n",
       "       [  0,   1,   1, ..., 110,   6,   1],\n",
       "       [  0,   1,   1, ...,  78,  10,   1],\n",
       "       ...,\n",
       "       [  0,   1,   0, ...,  41,  10,   1],\n",
       "       [  0,   1,   1, ...,  74,  10,   1],\n",
       "       [  0,   1,   1, ...,  57,  10,   1]], dtype=int64)"
      ]
     },
     "execution_count": 34,
     "metadata": {},
     "output_type": "execute_result"
    }
   ],
   "source": [
    "X_train"
   ]
  },
  {
   "cell_type": "code",
   "execution_count": 35,
   "id": "1e5f58db",
   "metadata": {},
   "outputs": [
    {
     "name": "stdout",
     "output_type": "stream",
     "text": [
      "1/1 [==============================] - 0s 391ms/step\n",
      "[[1.]]\n"
     ]
    }
   ],
   "source": [
    "print(classifier.predict([[1,1, 0,1,1,4276, 1542, 154, 240,0, 1]]))"
   ]
  },
  {
   "cell_type": "code",
   "execution_count": 36,
   "id": "1f09c174",
   "metadata": {},
   "outputs": [],
   "source": [
    "classifier.save(\"loan.h5\")"
   ]
  },
  {
   "cell_type": "code",
   "execution_count": 37,
   "id": "cdaa5cc9",
   "metadata": {},
   "outputs": [
    {
     "name": "stdout",
     "output_type": "stream",
     "text": [
      "4/4 [==============================] - 0s 6ms/step\n"
     ]
    }
   ],
   "source": [
    "y_pred = classifier.predict(X_test)"
   ]
  },
  {
   "cell_type": "code",
   "execution_count": 38,
   "id": "caf796fe",
   "metadata": {},
   "outputs": [
    {
     "data": {
      "text/plain": [
       "array([[3.3942419e-01],\n",
       "       [7.3912275e-01],\n",
       "       [9.6747065e-01],\n",
       "       [2.9435880e-02],\n",
       "       [6.8544126e-01],\n",
       "       [6.2439173e-01],\n",
       "       [6.1531854e-01],\n",
       "       [1.9823858e-06],\n",
       "       [9.5663631e-01],\n",
       "       [9.5391464e-01],\n",
       "       [9.4664967e-01],\n",
       "       [9.0755612e-01],\n",
       "       [9.0713227e-01],\n",
       "       [1.0823336e-01],\n",
       "       [3.7486070e-01],\n",
       "       [9.7501171e-01],\n",
       "       [9.9018884e-01],\n",
       "       [8.8383496e-01],\n",
       "       [9.4854820e-01],\n",
       "       [3.3573203e-03],\n",
       "       [6.3740712e-01],\n",
       "       [4.6959275e-04],\n",
       "       [9.7117877e-01],\n",
       "       [8.2532740e-01],\n",
       "       [9.9089402e-01],\n",
       "       [9.9311256e-01],\n",
       "       [7.8400469e-01],\n",
       "       [9.6929204e-01],\n",
       "       [2.6833433e-01],\n",
       "       [8.5465741e-01],\n",
       "       [1.8793284e-06],\n",
       "       [9.4515127e-01],\n",
       "       [8.6183512e-01],\n",
       "       [8.1530422e-01],\n",
       "       [9.1105306e-01],\n",
       "       [5.0425285e-01],\n",
       "       [4.7633919e-01],\n",
       "       [9.7051191e-01],\n",
       "       [9.6128798e-01],\n",
       "       [9.7695148e-01],\n",
       "       [8.2375813e-01],\n",
       "       [1.5325627e-02],\n",
       "       [9.4802690e-01],\n",
       "       [9.2227817e-01],\n",
       "       [8.2146579e-01],\n",
       "       [7.5797868e-01],\n",
       "       [8.5569799e-01],\n",
       "       [9.6660334e-01],\n",
       "       [1.7713236e-02],\n",
       "       [7.2178143e-01],\n",
       "       [9.9345577e-01],\n",
       "       [9.8645347e-01],\n",
       "       [9.4880682e-01],\n",
       "       [3.4098509e-01],\n",
       "       [6.5051049e-01],\n",
       "       [8.5509318e-01],\n",
       "       [7.3095733e-01],\n",
       "       [8.5878938e-01],\n",
       "       [8.1737596e-01],\n",
       "       [9.8061585e-01],\n",
       "       [7.0777482e-01],\n",
       "       [5.3430873e-01],\n",
       "       [7.7181733e-01],\n",
       "       [8.8790071e-01],\n",
       "       [4.5335025e-01],\n",
       "       [9.9138814e-01],\n",
       "       [8.5148501e-01],\n",
       "       [8.7730956e-01],\n",
       "       [4.6286291e-01],\n",
       "       [7.7295434e-01],\n",
       "       [5.1521701e-01],\n",
       "       [4.7855827e-01],\n",
       "       [9.5072156e-01],\n",
       "       [9.2572314e-01],\n",
       "       [9.5628792e-01],\n",
       "       [8.5304308e-01],\n",
       "       [6.1601776e-01],\n",
       "       [7.6184994e-01],\n",
       "       [8.3995634e-01],\n",
       "       [8.9013994e-01],\n",
       "       [8.7422299e-01],\n",
       "       [9.6486920e-01],\n",
       "       [6.4327389e-01],\n",
       "       [9.1078043e-01],\n",
       "       [9.9137038e-02],\n",
       "       [7.6531523e-01],\n",
       "       [8.6660999e-01],\n",
       "       [7.5769722e-01],\n",
       "       [7.9624629e-01],\n",
       "       [9.8969471e-01],\n",
       "       [8.4755898e-01],\n",
       "       [7.7650458e-01],\n",
       "       [1.0533320e-02],\n",
       "       [8.5330117e-01],\n",
       "       [8.8480204e-01],\n",
       "       [9.5105630e-01],\n",
       "       [8.5774982e-01],\n",
       "       [8.6322284e-01],\n",
       "       [8.9816594e-01],\n",
       "       [9.1447091e-01],\n",
       "       [5.4752856e-01],\n",
       "       [9.1473055e-01],\n",
       "       [9.6239161e-01],\n",
       "       [9.9301445e-01],\n",
       "       [9.4487947e-01],\n",
       "       [9.6420771e-01],\n",
       "       [8.8394117e-01],\n",
       "       [8.8021582e-01],\n",
       "       [1.9928795e-01],\n",
       "       [6.0713965e-01],\n",
       "       [9.2222989e-01],\n",
       "       [9.1231441e-01],\n",
       "       [8.9199930e-01],\n",
       "       [5.7209596e-02],\n",
       "       [9.4234002e-01],\n",
       "       [9.5699751e-01],\n",
       "       [7.7597219e-01],\n",
       "       [9.6138769e-01],\n",
       "       [9.6478391e-01],\n",
       "       [7.7952570e-01],\n",
       "       [9.9514133e-01],\n",
       "       [9.8281361e-02]], dtype=float32)"
      ]
     },
     "execution_count": 38,
     "metadata": {},
     "output_type": "execute_result"
    }
   ],
   "source": [
    "y_pred"
   ]
  },
  {
   "cell_type": "code",
   "execution_count": 39,
   "id": "8b699e99",
   "metadata": {},
   "outputs": [
    {
     "data": {
      "text/plain": [
       "array([[False],\n",
       "       [ True],\n",
       "       [ True],\n",
       "       [False],\n",
       "       [ True],\n",
       "       [ True],\n",
       "       [ True],\n",
       "       [False],\n",
       "       [ True],\n",
       "       [ True],\n",
       "       [ True],\n",
       "       [ True],\n",
       "       [ True],\n",
       "       [False],\n",
       "       [False],\n",
       "       [ True],\n",
       "       [ True],\n",
       "       [ True],\n",
       "       [ True],\n",
       "       [False],\n",
       "       [ True],\n",
       "       [False],\n",
       "       [ True],\n",
       "       [ True],\n",
       "       [ True],\n",
       "       [ True],\n",
       "       [ True],\n",
       "       [ True],\n",
       "       [False],\n",
       "       [ True],\n",
       "       [False],\n",
       "       [ True],\n",
       "       [ True],\n",
       "       [ True],\n",
       "       [ True],\n",
       "       [ True],\n",
       "       [False],\n",
       "       [ True],\n",
       "       [ True],\n",
       "       [ True],\n",
       "       [ True],\n",
       "       [False],\n",
       "       [ True],\n",
       "       [ True],\n",
       "       [ True],\n",
       "       [ True],\n",
       "       [ True],\n",
       "       [ True],\n",
       "       [False],\n",
       "       [ True],\n",
       "       [ True],\n",
       "       [ True],\n",
       "       [ True],\n",
       "       [False],\n",
       "       [ True],\n",
       "       [ True],\n",
       "       [ True],\n",
       "       [ True],\n",
       "       [ True],\n",
       "       [ True],\n",
       "       [ True],\n",
       "       [ True],\n",
       "       [ True],\n",
       "       [ True],\n",
       "       [False],\n",
       "       [ True],\n",
       "       [ True],\n",
       "       [ True],\n",
       "       [False],\n",
       "       [ True],\n",
       "       [ True],\n",
       "       [False],\n",
       "       [ True],\n",
       "       [ True],\n",
       "       [ True],\n",
       "       [ True],\n",
       "       [ True],\n",
       "       [ True],\n",
       "       [ True],\n",
       "       [ True],\n",
       "       [ True],\n",
       "       [ True],\n",
       "       [ True],\n",
       "       [ True],\n",
       "       [False],\n",
       "       [ True],\n",
       "       [ True],\n",
       "       [ True],\n",
       "       [ True],\n",
       "       [ True],\n",
       "       [ True],\n",
       "       [ True],\n",
       "       [False],\n",
       "       [ True],\n",
       "       [ True],\n",
       "       [ True],\n",
       "       [ True],\n",
       "       [ True],\n",
       "       [ True],\n",
       "       [ True],\n",
       "       [ True],\n",
       "       [ True],\n",
       "       [ True],\n",
       "       [ True],\n",
       "       [ True],\n",
       "       [ True],\n",
       "       [ True],\n",
       "       [ True],\n",
       "       [False],\n",
       "       [ True],\n",
       "       [ True],\n",
       "       [ True],\n",
       "       [ True],\n",
       "       [False],\n",
       "       [ True],\n",
       "       [ True],\n",
       "       [ True],\n",
       "       [ True],\n",
       "       [ True],\n",
       "       [ True],\n",
       "       [ True],\n",
       "       [False]])"
      ]
     },
     "execution_count": 39,
     "metadata": {},
     "output_type": "execute_result"
    }
   ],
   "source": [
    "y_pred =(y_pred>0.5)\n",
    "y_pred"
   ]
  },
  {
   "cell_type": "code",
   "execution_count": 40,
   "id": "b41cb3ce",
   "metadata": {},
   "outputs": [],
   "source": [
    "def predict_exit(Sample_value):\n",
    "    Sample_value = np.array(Sample_value)\n",
    "    Sample_value = Sample_value.reshape(1, -1)\n",
    "    #Sample_value = le.fit_transform(Sample_value)\n",
    "    return classifier.predict(Sample_value)"
   ]
  },
  {
   "cell_type": "code",
   "execution_count": 41,
   "id": "e9385f05",
   "metadata": {},
   "outputs": [
    {
     "name": "stdout",
     "output_type": "stream",
     "text": [
      "1/1 [==============================] - 0s 98ms/step\n",
      "Predicting High Chance Loan Approval\n"
     ]
    }
   ],
   "source": [
    "Sample_value = [[1,0,1,1,1,46,15,145,240,0,1]]\n",
    "if predict_exit(Sample_value)>0.5:\n",
    "    print('Predicting High Chance Loan Approval')\n",
    "else:\n",
    "    print('Predicting Low Chance Loan Approval')"
   ]
  },
  {
   "cell_type": "code",
   "execution_count": 42,
   "id": "8ce93fe3",
   "metadata": {},
   "outputs": [
    {
     "name": "stdout",
     "output_type": "stream",
     "text": [
      "1/1 [==============================] - 0s 79ms/step\n",
      "Predicting Low Chance Loan Approval\n"
     ]
    }
   ],
   "source": [
    "Sample_value = [[0,1,0,0,0,0,0,15,0,0,0]]\n",
    "if predict_exit(Sample_value)>0.5:\n",
    "    print('Predicting High Chance Loan Approval')\n",
    "else:\n",
    "    print('Predicting Low Chance Loan Approval')"
   ]
  },
  {
   "cell_type": "code",
   "execution_count": 43,
   "id": "d02ebc6f",
   "metadata": {},
   "outputs": [],
   "source": [
    "def compareModel(X_train,X_test,y_train,y_test):\n",
    "    decisionTree(X_train,X_test,y_train,y_test)\n",
    "    print('-'*100)\n",
    "    \n",
    "    randomForest(X_train,X_test,y_train,y_test)\n",
    "    print('-'*100)\n",
    "    \n",
    "   # xgboost(X_train, X_test, y_train, y_test)\n",
    "    #print('-'*100)\n",
    "    \n",
    "    KNN(X_train,X_test,y_train,y_test)\n",
    "    print('-'*100)"
   ]
  },
  {
   "cell_type": "markdown",
   "id": "2c07ae52",
   "metadata": {},
   "source": [
    "# Compare The Model"
   ]
  },
  {
   "cell_type": "code",
   "execution_count": 44,
   "id": "cca97ce5",
   "metadata": {},
   "outputs": [
    {
     "name": "stdout",
     "output_type": "stream",
     "text": [
      "***DecisionTreeClassifier***\n",
      "Confusion matrix\n",
      "[[30 10]\n",
      " [ 8 74]]\n",
      "Classification report\n",
      "              precision    recall  f1-score   support\n",
      "\n",
      "           0       0.79      0.75      0.77        40\n",
      "           1       0.88      0.90      0.89        82\n",
      "\n",
      "    accuracy                           0.85       122\n",
      "   macro avg       0.84      0.83      0.83       122\n",
      "weighted avg       0.85      0.85      0.85       122\n",
      "\n",
      "----------------------------------------------------------------------------------------------------\n",
      "******RandomForestClassifier*****\n",
      "Confusion matrix\n",
      "[[30 10]\n",
      " [ 1 81]]\n",
      "Classification report\n",
      "              precision    recall  f1-score   support\n",
      "\n",
      "           0       0.97      0.75      0.85        40\n",
      "           1       0.89      0.99      0.94        82\n",
      "\n",
      "    accuracy                           0.91       122\n",
      "   macro avg       0.93      0.87      0.89       122\n",
      "weighted avg       0.92      0.91      0.91       122\n",
      "\n",
      "----------------------------------------------------------------------------------------------------\n",
      "******KNeighborsClassifier*****\n",
      "Confusion matrix\n",
      "[[ 6 34]\n",
      " [ 5 77]]\n",
      "Classification report\n",
      "              precision    recall  f1-score   support\n",
      "\n",
      "           0       0.55      0.15      0.24        40\n",
      "           1       0.69      0.94      0.80        82\n",
      "\n",
      "    accuracy                           0.68       122\n",
      "   macro avg       0.62      0.54      0.52       122\n",
      "weighted avg       0.65      0.68      0.61       122\n",
      "\n",
      "----------------------------------------------------------------------------------------------------\n"
     ]
    }
   ],
   "source": [
    "compareModel(X_train,X_test,y_train,y_test)"
   ]
  },
  {
   "cell_type": "code",
   "execution_count": 45,
   "id": "481fb5ac",
   "metadata": {},
   "outputs": [
    {
     "name": "stdout",
     "output_type": "stream",
     "text": [
      "4/4 [==============================] - 0s 6ms/step\n",
      "0.6967213114754098\n",
      "ANN Model\n",
      "Confusion_matrix\n",
      "[[12 28]\n",
      " [ 9 73]]\n",
      "Classification report\n",
      "              precision    recall  f1-score   support\n",
      "\n",
      "           0       0.57      0.30      0.39        40\n",
      "           1       0.72      0.89      0.80        82\n",
      "\n",
      "    accuracy                           0.70       122\n",
      "   macro avg       0.65      0.60      0.60       122\n",
      "weighted avg       0.67      0.70      0.67       122\n",
      "\n"
     ]
    }
   ],
   "source": [
    "ypred = classifier.predict(X_test)\n",
    "print(accuracy_score(y_pred,y_test))\n",
    "print(\"ANN Model\")\n",
    "print(\"Confusion_matrix\")\n",
    "print(confusion_matrix(y_test,y_pred))\n",
    "print(\"Classification report\")\n",
    "print(classification_report(y_test,y_pred))"
   ]
  },
  {
   "cell_type": "code",
   "execution_count": 46,
   "id": "c160e914",
   "metadata": {},
   "outputs": [],
   "source": [
    "from sklearn.model_selection import cross_val_score\n",
    "rf = RandomForestClassifier()\n",
    "rf.fit(X_train,y_train)\n",
    "ypred = rf.predict(X_test)\n"
   ]
  },
  {
   "cell_type": "code",
   "execution_count": 47,
   "id": "7a84e79b",
   "metadata": {},
   "outputs": [
    {
     "data": {
      "text/plain": [
       "0.9132053764832909"
      ]
     },
     "execution_count": 47,
     "metadata": {},
     "output_type": "execute_result"
    }
   ],
   "source": [
    "f1_score(ypred,y_test,average='weighted')"
   ]
  },
  {
   "cell_type": "code",
   "execution_count": 48,
   "id": "56bd5e29",
   "metadata": {},
   "outputs": [],
   "source": [
    "cv = cross_val_score(rf,x,y,cv=5)"
   ]
  },
  {
   "cell_type": "code",
   "execution_count": 49,
   "id": "e82273da",
   "metadata": {},
   "outputs": [
    {
     "data": {
      "text/plain": [
       "0.9182154757497223"
      ]
     },
     "execution_count": 49,
     "metadata": {},
     "output_type": "execute_result"
    }
   ],
   "source": [
    "np.mean(cv)"
   ]
  },
  {
   "cell_type": "code",
   "execution_count": 50,
   "id": "a911ae98",
   "metadata": {},
   "outputs": [],
   "source": [
    "#convert the model as pickle file\n",
    "pickle.dump(classifier,open('rdf.pkl','wb'))"
   ]
  },
  {
   "cell_type": "code",
   "execution_count": null,
   "id": "53f8df8e",
   "metadata": {},
   "outputs": [],
   "source": []
  }
 ],
 "metadata": {
  "kernelspec": {
   "display_name": "Python 3 (ipykernel)",
   "language": "python",
   "name": "python3"
  },
  "language_info": {
   "codemirror_mode": {
    "name": "ipython",
    "version": 3
   },
   "file_extension": ".py",
   "mimetype": "text/x-python",
   "name": "python",
   "nbconvert_exporter": "python",
   "pygments_lexer": "ipython3",
   "version": "3.11.2"
  }
 },
 "nbformat": 4,
 "nbformat_minor": 5
}
