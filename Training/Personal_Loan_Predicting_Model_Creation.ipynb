{
 "cells": [
  {
   "cell_type": "code",
   "execution_count": 1,
   "id": "6ee7b4f0",
   "metadata": {},
   "outputs": [
    {
     "name": "stderr",
     "output_type": "stream",
     "text": [
      "C:\\Users\\GOJO\\AppData\\Local\\Programs\\Python\\Python311\\Lib\\site-packages\\numpy\\_distributor_init.py:30: UserWarning: loaded more than 1 DLL from .libs:\n",
      "C:\\Users\\GOJO\\AppData\\Local\\Programs\\Python\\Python311\\Lib\\site-packages\\numpy\\.libs\\libopenblas.FB5AE2TYXYH2IJRDKGDGQ3XBKLKTF43H.gfortran-win_amd64.dll\n",
      "C:\\Users\\GOJO\\AppData\\Local\\Programs\\Python\\Python311\\Lib\\site-packages\\numpy\\.libs\\libopenblas64__v0.3.21-gcc_10_3_0.dll\n",
      "  warnings.warn(\"loaded more than 1 DLL from .libs:\"\n"
     ]
    }
   ],
   "source": [
    "import pandas as pd\n",
    "import numpy as np\n",
    "import pickle\n",
    "import matplotlib.pyplot as plt\n",
    "%matplotlib inline\n",
    "import seaborn as sna\n",
    "import sklearn\n",
    "from sklearn.tree import DecisionTreeClassifier\n",
    "from sklearn.ensemble import GradientBoostingClassifier, RandomForestClassifier\n",
    "from sklearn.neighbors import KNeighborsClassifier\n",
    "from sklearn.model_selection import RandomizedSearchCV\n",
    "import imblearn\n",
    "from sklearn.model_selection import train_test_split\n",
    "from sklearn.preprocessing import StandardScaler\n",
    "from sklearn.metrics import accuracy_score, classification_report, confusion_matrix, f1_score"
   ]
  },
  {
   "cell_type": "code",
   "execution_count": 2,
   "id": "0f96fd44",
   "metadata": {},
   "outputs": [
    {
     "data": {
      "text/plain": [
       "'C:\\\\Users\\\\GOJO\\\\Documents\\\\Personal_Loan_Prediction_Approval (Machine Learning )\\\\Training'"
      ]
     },
     "execution_count": 2,
     "metadata": {},
     "output_type": "execute_result"
    }
   ],
   "source": [
    "import os\n",
    "os.getcwd()"
   ]
  },
  {
   "cell_type": "code",
   "execution_count": 3,
   "id": "1b0b491c",
   "metadata": {},
   "outputs": [],
   "source": [
    "Data = pd.read_csv(r\"C:\\\\Users\\\\GOJO\\\\Documents\\\\Personal_Loan_Prediction_Approval (Machine Learning )\\\\DataSet\\\\testData1.csv\")"
   ]
  },
  {
   "cell_type": "code",
   "execution_count": 4,
   "id": "1c5b0608",
   "metadata": {},
   "outputs": [
    {
     "data": {
      "text/html": [
       "<div>\n",
       "<style scoped>\n",
       "    .dataframe tbody tr th:only-of-type {\n",
       "        vertical-align: middle;\n",
       "    }\n",
       "\n",
       "    .dataframe tbody tr th {\n",
       "        vertical-align: top;\n",
       "    }\n",
       "\n",
       "    .dataframe thead th {\n",
       "        text-align: right;\n",
       "    }\n",
       "</style>\n",
       "<table border=\"1\" class=\"dataframe\">\n",
       "  <thead>\n",
       "    <tr style=\"text-align: right;\">\n",
       "      <th></th>\n",
       "      <th>Loan_ID</th>\n",
       "      <th>Gender</th>\n",
       "      <th>Married</th>\n",
       "      <th>Dependents</th>\n",
       "      <th>Education</th>\n",
       "      <th>Self_Employed</th>\n",
       "      <th>ApplicantIncome</th>\n",
       "      <th>CoapplicantIncome</th>\n",
       "      <th>LoanAmount</th>\n",
       "      <th>Loan_Amount_Term</th>\n",
       "      <th>Credit_History</th>\n",
       "      <th>Property_Area</th>\n",
       "      <th>Loan_Status</th>\n",
       "    </tr>\n",
       "  </thead>\n",
       "  <tbody>\n",
       "    <tr>\n",
       "      <th>0</th>\n",
       "      <td>LP001015</td>\n",
       "      <td>Male</td>\n",
       "      <td>Yes</td>\n",
       "      <td>0</td>\n",
       "      <td>Graduate</td>\n",
       "      <td>No</td>\n",
       "      <td>5720</td>\n",
       "      <td>0</td>\n",
       "      <td>110.0</td>\n",
       "      <td>360.0</td>\n",
       "      <td>1.0</td>\n",
       "      <td>Urban</td>\n",
       "      <td>yes</td>\n",
       "    </tr>\n",
       "    <tr>\n",
       "      <th>1</th>\n",
       "      <td>LP001022</td>\n",
       "      <td>Male</td>\n",
       "      <td>Yes</td>\n",
       "      <td>1</td>\n",
       "      <td>Graduate</td>\n",
       "      <td>No</td>\n",
       "      <td>3076</td>\n",
       "      <td>1500</td>\n",
       "      <td>126.0</td>\n",
       "      <td>360.0</td>\n",
       "      <td>1.0</td>\n",
       "      <td>Urban</td>\n",
       "      <td>yes</td>\n",
       "    </tr>\n",
       "    <tr>\n",
       "      <th>2</th>\n",
       "      <td>LP001031</td>\n",
       "      <td>Male</td>\n",
       "      <td>Yes</td>\n",
       "      <td>2</td>\n",
       "      <td>Graduate</td>\n",
       "      <td>No</td>\n",
       "      <td>5000</td>\n",
       "      <td>1800</td>\n",
       "      <td>208.0</td>\n",
       "      <td>360.0</td>\n",
       "      <td>1.0</td>\n",
       "      <td>Urban</td>\n",
       "      <td>yes</td>\n",
       "    </tr>\n",
       "    <tr>\n",
       "      <th>3</th>\n",
       "      <td>LP001035</td>\n",
       "      <td>Male</td>\n",
       "      <td>Yes</td>\n",
       "      <td>2</td>\n",
       "      <td>Graduate</td>\n",
       "      <td>No</td>\n",
       "      <td>2340</td>\n",
       "      <td>2546</td>\n",
       "      <td>100.0</td>\n",
       "      <td>360.0</td>\n",
       "      <td>NaN</td>\n",
       "      <td>Urban</td>\n",
       "      <td>no</td>\n",
       "    </tr>\n",
       "    <tr>\n",
       "      <th>4</th>\n",
       "      <td>LP001051</td>\n",
       "      <td>Male</td>\n",
       "      <td>No</td>\n",
       "      <td>0</td>\n",
       "      <td>Not Graduate</td>\n",
       "      <td>No</td>\n",
       "      <td>3276</td>\n",
       "      <td>0</td>\n",
       "      <td>78.0</td>\n",
       "      <td>360.0</td>\n",
       "      <td>1.0</td>\n",
       "      <td>Urban</td>\n",
       "      <td>yes</td>\n",
       "    </tr>\n",
       "  </tbody>\n",
       "</table>\n",
       "</div>"
      ],
      "text/plain": [
       "    Loan_ID Gender Married Dependents     Education Self_Employed   \n",
       "0  LP001015   Male     Yes          0      Graduate            No  \\\n",
       "1  LP001022   Male     Yes          1      Graduate            No   \n",
       "2  LP001031   Male     Yes          2      Graduate            No   \n",
       "3  LP001035   Male     Yes          2      Graduate            No   \n",
       "4  LP001051   Male      No          0  Not Graduate            No   \n",
       "\n",
       "   ApplicantIncome  CoapplicantIncome  LoanAmount  Loan_Amount_Term   \n",
       "0             5720                  0       110.0             360.0  \\\n",
       "1             3076               1500       126.0             360.0   \n",
       "2             5000               1800       208.0             360.0   \n",
       "3             2340               2546       100.0             360.0   \n",
       "4             3276                  0        78.0             360.0   \n",
       "\n",
       "   Credit_History Property_Area Loan_Status  \n",
       "0             1.0         Urban         yes  \n",
       "1             1.0         Urban         yes  \n",
       "2             1.0         Urban         yes  \n",
       "3             NaN         Urban          no  \n",
       "4             1.0         Urban         yes  "
      ]
     },
     "execution_count": 4,
     "metadata": {},
     "output_type": "execute_result"
    }
   ],
   "source": [
    "Data.head()"
   ]
  },
  {
   "cell_type": "code",
   "execution_count": 5,
   "id": "09f1a26b",
   "metadata": {},
   "outputs": [
    {
     "data": {
      "text/plain": [
       "Loan_ID               0\n",
       "Gender               11\n",
       "Married               0\n",
       "Dependents           10\n",
       "Education             0\n",
       "Self_Employed        23\n",
       "ApplicantIncome       0\n",
       "CoapplicantIncome     0\n",
       "LoanAmount            5\n",
       "Loan_Amount_Term      6\n",
       "Credit_History       29\n",
       "Property_Area         0\n",
       "Loan_Status           0\n",
       "dtype: int64"
      ]
     },
     "execution_count": 5,
     "metadata": {},
     "output_type": "execute_result"
    }
   ],
   "source": [
    "Data.isnull().sum()"
   ]
  },
  {
   "cell_type": "code",
   "execution_count": 6,
   "id": "35e93da0",
   "metadata": {},
   "outputs": [
    {
     "name": "stdout",
     "output_type": "stream",
     "text": [
      "<class 'pandas.core.frame.DataFrame'>\n",
      "RangeIndex: 367 entries, 0 to 366\n",
      "Data columns (total 13 columns):\n",
      " #   Column             Non-Null Count  Dtype  \n",
      "---  ------             --------------  -----  \n",
      " 0   Loan_ID            367 non-null    object \n",
      " 1   Gender             356 non-null    object \n",
      " 2   Married            367 non-null    object \n",
      " 3   Dependents         357 non-null    object \n",
      " 4   Education          367 non-null    object \n",
      " 5   Self_Employed      344 non-null    object \n",
      " 6   ApplicantIncome    367 non-null    int64  \n",
      " 7   CoapplicantIncome  367 non-null    int64  \n",
      " 8   LoanAmount         362 non-null    float64\n",
      " 9   Loan_Amount_Term   361 non-null    float64\n",
      " 10  Credit_History     338 non-null    float64\n",
      " 11  Property_Area      367 non-null    object \n",
      " 12  Loan_Status        367 non-null    object \n",
      "dtypes: float64(3), int64(2), object(8)\n",
      "memory usage: 37.4+ KB\n"
     ]
    }
   ],
   "source": [
    "Data.info()"
   ]
  },
  {
   "cell_type": "code",
   "execution_count": 7,
   "id": "e3dc25ff",
   "metadata": {},
   "outputs": [],
   "source": [
    "Data['Gender'] = Data['Gender'].fillna(Data['Gender'].mode()[0])\n",
    "Data['Dependents'] = Data['Dependents'].str.replace('+','')\n",
    "Data['Dependents'] = Data['Dependents'].fillna(Data['Dependents'].mode()[0])\n",
    "Data['Self_Employed'] = Data['Self_Employed'].fillna(Data['Self_Employed'].mode()[0])\n",
    "Data['LoanAmount'] = Data['LoanAmount'].fillna(Data['LoanAmount'].mode()[0])\n",
    "Data['Loan_Amount_Term'] = Data['Loan_Amount_Term'].fillna(Data['Loan_Amount_Term'].mode()[0])\n",
    "Data['Credit_History'] = Data['Credit_History'].fillna(Data['Credit_History'].mode()[0])\n",
    "Data['Married'] = Data['Married'].fillna(Data['Married'].mode()[0])"
   ]
  },
  {
   "cell_type": "code",
   "execution_count": 8,
   "id": "04b82b26",
   "metadata": {},
   "outputs": [
    {
     "data": {
      "text/plain": [
       "Loan_ID              0\n",
       "Gender               0\n",
       "Married              0\n",
       "Dependents           0\n",
       "Education            0\n",
       "Self_Employed        0\n",
       "ApplicantIncome      0\n",
       "CoapplicantIncome    0\n",
       "LoanAmount           0\n",
       "Loan_Amount_Term     0\n",
       "Credit_History       0\n",
       "Property_Area        0\n",
       "Loan_Status          0\n",
       "dtype: int64"
      ]
     },
     "execution_count": 8,
     "metadata": {},
     "output_type": "execute_result"
    }
   ],
   "source": [
    "Data.isnull().sum()"
   ]
  },
  {
   "cell_type": "code",
   "execution_count": 9,
   "id": "b5e955d9",
   "metadata": {},
   "outputs": [],
   "source": [
    "Data['LoanAmount']=Data['LoanAmount'].astype('int64')\n",
    "\n",
    "Data['Loan_Amount_Term']=Data['Loan_Amount_Term'].astype('int64')\n",
    "\n",
    "Data['Credit_History']=Data['Credit_History'].astype('int64')\n"
   ]
  },
  {
   "cell_type": "code",
   "execution_count": 10,
   "id": "539bd9d2",
   "metadata": {},
   "outputs": [],
   "source": [
    "from imblearn.combine import SMOTETomek\n",
    "smote = SMOTETomek()"
   ]
  },
  {
   "cell_type": "code",
   "execution_count": 12,
   "id": "217bc4e8",
   "metadata": {},
   "outputs": [],
   "source": [
    "x = Data.iloc[:,1:11].values\n",
    "y = Data.iloc[:,-1].values\n"
   ]
  },
  {
   "cell_type": "code",
   "execution_count": 13,
   "id": "5ba30703",
   "metadata": {},
   "outputs": [],
   "source": [
    "Gen = Data.iloc[:,1].values\n",
    "Ed = Data.loc[:,['Education']]\n",
    "\n",
    "AI = Data.loc[:,['ApplicantIncome']]\n",
    "CH = Data.loc[:,['Credit_History']]\n",
    "\n",
    "Ma = Data.loc[:,['Married']]\n",
    "SE = Data.loc[:,['Self_Employed']]\n",
    "LA = Data.loc[:,['LoanAmount']]\n",
    "PA = Data.loc[:,['Property_Area']]"
   ]
  },
  {
   "cell_type": "code",
   "execution_count": 15,
   "id": "18bb441e",
   "metadata": {},
   "outputs": [
    {
     "name": "stderr",
     "output_type": "stream",
     "text": [
      "C:\\Users\\GOJO\\AppData\\Local\\Programs\\Python\\Python311\\Lib\\site-packages\\sklearn\\preprocessing\\_label.py:116: DataConversionWarning: A column-vector y was passed when a 1d array was expected. Please change the shape of y to (n_samples, ), for example using ravel().\n",
      "  y = column_or_1d(y, warn=True)\n",
      "C:\\Users\\GOJO\\AppData\\Local\\Programs\\Python\\Python311\\Lib\\site-packages\\sklearn\\preprocessing\\_label.py:116: DataConversionWarning: A column-vector y was passed when a 1d array was expected. Please change the shape of y to (n_samples, ), for example using ravel().\n",
      "  y = column_or_1d(y, warn=True)\n",
      "C:\\Users\\GOJO\\AppData\\Local\\Programs\\Python\\Python311\\Lib\\site-packages\\sklearn\\preprocessing\\_label.py:116: DataConversionWarning: A column-vector y was passed when a 1d array was expected. Please change the shape of y to (n_samples, ), for example using ravel().\n",
      "  y = column_or_1d(y, warn=True)\n",
      "C:\\Users\\GOJO\\AppData\\Local\\Programs\\Python\\Python311\\Lib\\site-packages\\sklearn\\preprocessing\\_label.py:116: DataConversionWarning: A column-vector y was passed when a 1d array was expected. Please change the shape of y to (n_samples, ), for example using ravel().\n",
      "  y = column_or_1d(y, warn=True)\n"
     ]
    }
   ],
   "source": [
    "from sklearn.preprocessing import LabelEncoder\n",
    "le = LabelEncoder()\n",
    "Gen = le.fit_transform(Gen)\n",
    "Ma = le.fit_transform(Ma)\n",
    "SE = le.fit_transform(SE)\n",
    "PA = le.fit_transform(PA)\n",
    "Ed = le.fit_transform(Ed)\n"
   ]
  },
  {
   "cell_type": "code",
   "execution_count": 17,
   "id": "d56213e9",
   "metadata": {},
   "outputs": [
    {
     "data": {
      "text/plain": [
       "array([[0.0, 1.0, 1, ..., 52, 10, 1],\n",
       "       [0.0, 1.0, 1, ..., 67, 10, 1],\n",
       "       [0.0, 1.0, 1, ..., 119, 10, 1],\n",
       "       ...,\n",
       "       [1.0, 0.0, 1, ..., 67, 10, 1],\n",
       "       [0.0, 1.0, 1, ..., 94, 10, 1],\n",
       "       [1.0, 0.0, 1, ..., 40, 6, 1]], dtype=object)"
      ]
     },
     "execution_count": 17,
     "metadata": {},
     "output_type": "execute_result"
    }
   ],
   "source": [
    "from sklearn.compose import ColumnTransformer\n",
    "from sklearn.preprocessing import OneHotEncoder\n",
    "ct = ColumnTransformer(transformers=[('encoder',OneHotEncoder(), [1])], remainder= 'passthrough')\n",
    "x = np.array(ct.fit_transform(x))\n",
    "x"
   ]
  },
  {
   "cell_type": "code",
   "execution_count": 18,
   "id": "8bad11e2",
   "metadata": {},
   "outputs": [
    {
     "data": {
      "text/plain": [
       "array([[0, 1, 1, ..., 52, 10, 1],\n",
       "       [0, 1, 1, ..., 67, 10, 1],\n",
       "       [0, 1, 1, ..., 119, 10, 1],\n",
       "       ...,\n",
       "       [1, 0, 1, ..., 67, 10, 1],\n",
       "       [0, 1, 1, ..., 94, 10, 1],\n",
       "       [1, 0, 1, ..., 40, 6, 1]], dtype=object)"
      ]
     },
     "execution_count": 18,
     "metadata": {},
     "output_type": "execute_result"
    }
   ],
   "source": [
    "from sklearn.preprocessing import LabelEncoder\n",
    "le = LabelEncoder()\n",
    "x[:,0] = le.fit_transform(x[:,0])\n",
    "x[:,1] = le.fit_transform(x[:,1])\n",
    "x[:,2] = le.fit_transform(x[:,2])\n",
    "x[:,3] = le.fit_transform(x[:,3])\n",
    "x[:,4] = le.fit_transform(x[:,4])\n",
    "x[:,5] = le.fit_transform(x[:,5])\n",
    "x[:,6] = le.fit_transform(x[:,6])\n",
    "x[:,7] = le.fit_transform(x[:,7])\n",
    "x[:,8] = le.fit_transform(x[:,8])\n",
    "x[:,9] = le.fit_transform(x[:,9])\n",
    "x[:,10] = le.fit_transform(x[:,10])\n",
    "x\n"
   ]
  },
  {
   "cell_type": "code",
   "execution_count": 62,
   "id": "d5ec4fbd",
   "metadata": {},
   "outputs": [
    {
     "data": {
      "text/plain": [
       "array([[  0,   1,   1, ...,  52,  10,   1],\n",
       "       [  0,   1,   1, ...,  67,  10,   1],\n",
       "       [  0,   1,   1, ..., 119,  10,   1],\n",
       "       ...,\n",
       "       [  1,   0,   1, ...,  67,  10,   1],\n",
       "       [  0,   1,   1, ...,  94,  10,   1],\n",
       "       [  1,   0,   1, ...,  40,   6,   1]])"
      ]
     },
     "execution_count": 62,
     "metadata": {},
     "output_type": "execute_result"
    }
   ],
   "source": [
    "x=x.astype('int32')\n",
    "#x=x.astype('float32')\n",
    "y = le.fit_transform(y)\n",
    "y.shape[0]\n",
    "x.shape[0]\n",
    "\n",
    "\n"
   ]
  },
  {
   "cell_type": "code",
   "execution_count": 41,
   "id": "7bc3e5ec",
   "metadata": {},
   "outputs": [],
   "source": [
    "x_bal,y_bal = smote.fit_resample(x,y)"
   ]
  },
  {
   "cell_type": "code",
   "execution_count": 63,
   "id": "8f5d9a6e",
   "metadata": {},
   "outputs": [],
   "source": [
    "sc = StandardScaler()\n"
   ]
  },
  {
   "cell_type": "code",
   "execution_count": 64,
   "id": "650d07a8",
   "metadata": {},
   "outputs": [],
   "source": [
    "X_train, X_test, y_train, y_test = train_test_split(\n",
    "x_bal, y_bal, test_size=0.33, random_state=42)\n"
   ]
  },
  {
   "cell_type": "code",
   "execution_count": 65,
   "id": "25734472",
   "metadata": {},
   "outputs": [],
   "source": [
    "def decisionTree(X_train, X_test, y_train, y_test):\n",
    "    dt=DecisionTreeClassifier()\n",
    "    dt.fit(X_train,y_train)\n",
    "    yPred= dt.predict(X_test)\n",
    "    print('***DecisionTreeClassifier***')\n",
    "    print('Confusion matrix')\n",
    "    print(confusion_matrix(y_test,yPred))\n",
    "    print('Classification report')\n",
    "    print(classification_report(y_test,yPred))\n",
    "    "
   ]
  },
  {
   "cell_type": "code",
   "execution_count": 66,
   "id": "6ccafb99",
   "metadata": {},
   "outputs": [],
   "source": [
    "def randomForest(X_train,X_test,y_train,y_test):\n",
    "    rf = RandomForestClassifier()\n",
    "    rf.fit(X_train,y_train)\n",
    "    yPred = rf.predict(X_test)\n",
    "    print('******RandomForestClassifier*****')\n",
    "    print('Confusion matrix')\n",
    "    print(confusion_matrix(y_test,yPred))\n",
    "    print('Classification report')\n",
    "    print(classification_report(y_test,yPred))\n",
    "    "
   ]
  },
  {
   "cell_type": "code",
   "execution_count": 67,
   "id": "f98adb03",
   "metadata": {},
   "outputs": [],
   "source": [
    "def KNN(X_train,X_test,y_train,y_test):\n",
    "    Knn = KNeighborsClassifier()\n",
    "    Knn.fit(X_train,y_train)\n",
    "    yPred = Knn.predict(X_test)\n",
    "    print('******KNeighborsClassifier*****')\n",
    "    print('Confusion matrix')\n",
    "    print(confusion_matrix(y_test,yPred))\n",
    "    print('Classification report')\n",
    "    print(classification_report(y_test,yPred))\n",
    "    "
   ]
  },
  {
   "cell_type": "code",
   "execution_count": 68,
   "id": "a5b01105",
   "metadata": {},
   "outputs": [],
   "source": [
    "def xgboost(X_train,X_test,y_train,y_test):\n",
    "    xg = GradiantBoostingClassifier()\n",
    "    xg.fit(X_train,y_train)\n",
    "    yPred = xg.predict(X_test)\n",
    "    print('******GradiantBoostingClassifier*****')\n",
    "    print('Confusion matrix')\n",
    "    print(confusion_matrix(y_test,yPred))\n",
    "    print('Classification report')\n",
    "    print(classification_report(y_test,yPred))\n",
    "    "
   ]
  },
  {
   "cell_type": "code",
   "execution_count": 69,
   "id": "bcc68b2d",
   "metadata": {},
   "outputs": [],
   "source": [
    "import tensorflow \n",
    "from tensorflow.keras.models import Sequential\n",
    "from tensorflow.keras.layers import Dense\n"
   ]
  },
  {
   "cell_type": "code",
   "execution_count": 70,
   "id": "20776340",
   "metadata": {},
   "outputs": [],
   "source": [
    "classifier = Sequential()\n",
    "classifier.add(Dense(units=100, activation='relu', input_dim=11))\n"
   ]
  },
  {
   "cell_type": "code",
   "execution_count": 71,
   "id": "ac1b31ff",
   "metadata": {},
   "outputs": [],
   "source": [
    "classifier.add(Dense(units=50, activation='relu'))"
   ]
  },
  {
   "cell_type": "code",
   "execution_count": 72,
   "id": "fb82c984",
   "metadata": {},
   "outputs": [],
   "source": [
    "classifier.add(Dense(units=1, activation='sigmoid'))\n"
   ]
  },
  {
   "cell_type": "code",
   "execution_count": 73,
   "id": "d9ba5c6a",
   "metadata": {},
   "outputs": [],
   "source": [
    "classifier.compile(\n",
    "    optimizer = 'adam',\n",
    "    loss = 'binary_crossentropy',\n",
    "    metrics = ['accuracy'])\n"
   ]
  },
  {
   "cell_type": "code",
   "execution_count": 74,
   "id": "e3a34743",
   "metadata": {},
   "outputs": [
    {
     "name": "stdout",
     "output_type": "stream",
     "text": [
      "Epoch 1/100\n",
      "11/11 [==============================] - 3s 10ms/step - loss: 1.3520 - accuracy: 0.5105\n",
      "Epoch 2/100\n",
      "11/11 [==============================] - 0s 14ms/step - loss: 1.2279 - accuracy: 0.5255\n",
      "Epoch 3/100\n",
      "11/11 [==============================] - 0s 12ms/step - loss: 0.9285 - accuracy: 0.6006\n",
      "Epoch 4/100\n",
      "11/11 [==============================] - 0s 10ms/step - loss: 0.7969 - accuracy: 0.5465\n",
      "Epoch 5/100\n",
      "11/11 [==============================] - 0s 12ms/step - loss: 0.6750 - accuracy: 0.6246\n",
      "Epoch 6/100\n",
      "11/11 [==============================] - 0s 9ms/step - loss: 0.6758 - accuracy: 0.6366\n",
      "Epoch 7/100\n",
      "11/11 [==============================] - 0s 13ms/step - loss: 0.8271 - accuracy: 0.5766\n",
      "Epoch 8/100\n",
      "11/11 [==============================] - 0s 12ms/step - loss: 0.6741 - accuracy: 0.6276\n",
      "Epoch 9/100\n",
      "11/11 [==============================] - 0s 13ms/step - loss: 0.5934 - accuracy: 0.6787\n",
      "Epoch 10/100\n",
      "11/11 [==============================] - 0s 10ms/step - loss: 0.5858 - accuracy: 0.6757\n",
      "Epoch 11/100\n",
      "11/11 [==============================] - 0s 11ms/step - loss: 0.5664 - accuracy: 0.6607\n",
      "Epoch 12/100\n",
      "11/11 [==============================] - 0s 12ms/step - loss: 0.5929 - accuracy: 0.6697\n",
      "Epoch 13/100\n",
      "11/11 [==============================] - 0s 13ms/step - loss: 0.6119 - accuracy: 0.6817\n",
      "Epoch 14/100\n",
      "11/11 [==============================] - 0s 11ms/step - loss: 0.5731 - accuracy: 0.6997\n",
      "Epoch 15/100\n",
      "11/11 [==============================] - 0s 11ms/step - loss: 0.5515 - accuracy: 0.6907\n",
      "Epoch 16/100\n",
      "11/11 [==============================] - 0s 9ms/step - loss: 0.5317 - accuracy: 0.7237\n",
      "Epoch 17/100\n",
      "11/11 [==============================] - 0s 11ms/step - loss: 0.6133 - accuracy: 0.6757\n",
      "Epoch 18/100\n",
      "11/11 [==============================] - 0s 13ms/step - loss: 0.5673 - accuracy: 0.7117\n",
      "Epoch 19/100\n",
      "11/11 [==============================] - 0s 16ms/step - loss: 0.5919 - accuracy: 0.6847\n",
      "Epoch 20/100\n",
      "11/11 [==============================] - 0s 12ms/step - loss: 0.5941 - accuracy: 0.6757\n",
      "Epoch 21/100\n",
      "11/11 [==============================] - 0s 12ms/step - loss: 0.7088 - accuracy: 0.6246\n",
      "Epoch 22/100\n",
      "11/11 [==============================] - 0s 9ms/step - loss: 0.6102 - accuracy: 0.6727\n",
      "Epoch 23/100\n",
      "11/11 [==============================] - 0s 10ms/step - loss: 0.5521 - accuracy: 0.7508\n",
      "Epoch 24/100\n",
      "11/11 [==============================] - 0s 10ms/step - loss: 0.5011 - accuracy: 0.7327\n",
      "Epoch 25/100\n",
      "11/11 [==============================] - 0s 13ms/step - loss: 0.5416 - accuracy: 0.7027\n",
      "Epoch 26/100\n",
      "11/11 [==============================] - 0s 23ms/step - loss: 0.5351 - accuracy: 0.7267\n",
      "Epoch 27/100\n",
      "11/11 [==============================] - 0s 23ms/step - loss: 0.5450 - accuracy: 0.6817\n",
      "Epoch 28/100\n",
      "11/11 [==============================] - 0s 14ms/step - loss: 0.4730 - accuracy: 0.7868\n",
      "Epoch 29/100\n",
      "11/11 [==============================] - 0s 13ms/step - loss: 0.4711 - accuracy: 0.7628\n",
      "Epoch 30/100\n",
      "11/11 [==============================] - 0s 15ms/step - loss: 0.4596 - accuracy: 0.7688\n",
      "Epoch 31/100\n",
      "11/11 [==============================] - 0s 17ms/step - loss: 0.4671 - accuracy: 0.7688\n",
      "Epoch 32/100\n",
      "11/11 [==============================] - 0s 26ms/step - loss: 0.5426 - accuracy: 0.7327\n",
      "Epoch 33/100\n",
      "11/11 [==============================] - 0s 13ms/step - loss: 0.5692 - accuracy: 0.7117\n",
      "Epoch 34/100\n",
      "11/11 [==============================] - 0s 13ms/step - loss: 0.5000 - accuracy: 0.7417\n",
      "Epoch 35/100\n",
      "11/11 [==============================] - 0s 13ms/step - loss: 0.5894 - accuracy: 0.6997\n",
      "Epoch 36/100\n",
      "11/11 [==============================] - 0s 13ms/step - loss: 0.4604 - accuracy: 0.7808\n",
      "Epoch 37/100\n",
      "11/11 [==============================] - 0s 9ms/step - loss: 0.5338 - accuracy: 0.7177\n",
      "Epoch 38/100\n",
      "11/11 [==============================] - 0s 8ms/step - loss: 0.4460 - accuracy: 0.7808\n",
      "Epoch 39/100\n",
      "11/11 [==============================] - 0s 11ms/step - loss: 0.4450 - accuracy: 0.8078\n",
      "Epoch 40/100\n",
      "11/11 [==============================] - 0s 20ms/step - loss: 0.4634 - accuracy: 0.7688\n",
      "Epoch 41/100\n",
      "11/11 [==============================] - 0s 21ms/step - loss: 0.4885 - accuracy: 0.7357\n",
      "Epoch 42/100\n",
      "11/11 [==============================] - 0s 13ms/step - loss: 0.5354 - accuracy: 0.7087\n",
      "Epoch 43/100\n",
      "11/11 [==============================] - 0s 16ms/step - loss: 0.5519 - accuracy: 0.7267\n",
      "Epoch 44/100\n",
      "11/11 [==============================] - 0s 7ms/step - loss: 0.5276 - accuracy: 0.7748\n",
      "Epoch 45/100\n",
      "11/11 [==============================] - 0s 15ms/step - loss: 0.5077 - accuracy: 0.7417\n",
      "Epoch 46/100\n",
      "11/11 [==============================] - 0s 9ms/step - loss: 0.4451 - accuracy: 0.8108\n",
      "Epoch 47/100\n",
      "11/11 [==============================] - 0s 21ms/step - loss: 0.4122 - accuracy: 0.8078\n",
      "Epoch 48/100\n",
      "11/11 [==============================] - 0s 10ms/step - loss: 0.4095 - accuracy: 0.8108\n",
      "Epoch 49/100\n",
      "11/11 [==============================] - 0s 14ms/step - loss: 0.4281 - accuracy: 0.8228\n",
      "Epoch 50/100\n",
      "11/11 [==============================] - 0s 10ms/step - loss: 0.4089 - accuracy: 0.8198\n",
      "Epoch 51/100\n",
      "11/11 [==============================] - 0s 11ms/step - loss: 0.4344 - accuracy: 0.7898\n",
      "Epoch 52/100\n",
      "11/11 [==============================] - 0s 11ms/step - loss: 0.4429 - accuracy: 0.7838\n",
      "Epoch 53/100\n",
      "11/11 [==============================] - 0s 8ms/step - loss: 0.4173 - accuracy: 0.7928\n",
      "Epoch 54/100\n",
      "11/11 [==============================] - 0s 12ms/step - loss: 0.4064 - accuracy: 0.8258\n",
      "Epoch 55/100\n",
      "11/11 [==============================] - 0s 8ms/step - loss: 0.4539 - accuracy: 0.7538\n",
      "Epoch 56/100\n",
      "11/11 [==============================] - 0s 10ms/step - loss: 0.3822 - accuracy: 0.8408\n",
      "Epoch 57/100\n",
      "11/11 [==============================] - 0s 11ms/step - loss: 0.3660 - accuracy: 0.8799\n",
      "Epoch 58/100\n",
      "11/11 [==============================] - 0s 8ms/step - loss: 0.3599 - accuracy: 0.8589\n",
      "Epoch 59/100\n",
      "11/11 [==============================] - 0s 12ms/step - loss: 0.3874 - accuracy: 0.8288\n",
      "Epoch 60/100\n",
      "11/11 [==============================] - 0s 7ms/step - loss: 0.3550 - accuracy: 0.8619\n",
      "Epoch 61/100\n",
      "11/11 [==============================] - 0s 11ms/step - loss: 0.3734 - accuracy: 0.8498\n",
      "Epoch 62/100\n",
      "11/11 [==============================] - 0s 8ms/step - loss: 0.3631 - accuracy: 0.8679\n",
      "Epoch 63/100\n",
      "11/11 [==============================] - 0s 9ms/step - loss: 0.3547 - accuracy: 0.8619\n",
      "Epoch 64/100\n",
      "11/11 [==============================] - 0s 9ms/step - loss: 0.3797 - accuracy: 0.8198\n",
      "Epoch 65/100\n",
      "11/11 [==============================] - 0s 8ms/step - loss: 0.4206 - accuracy: 0.8048\n",
      "Epoch 66/100\n",
      "11/11 [==============================] - 0s 8ms/step - loss: 0.3552 - accuracy: 0.8468\n",
      "Epoch 67/100\n",
      "11/11 [==============================] - 0s 9ms/step - loss: 0.3284 - accuracy: 0.8919\n",
      "Epoch 68/100\n",
      "11/11 [==============================] - 0s 7ms/step - loss: 0.3655 - accuracy: 0.8498\n",
      "Epoch 69/100\n",
      "11/11 [==============================] - 0s 10ms/step - loss: 0.3465 - accuracy: 0.8589\n",
      "Epoch 70/100\n",
      "11/11 [==============================] - 0s 10ms/step - loss: 0.3069 - accuracy: 0.8949\n",
      "Epoch 71/100\n",
      "11/11 [==============================] - 0s 8ms/step - loss: 0.3289 - accuracy: 0.8739\n",
      "Epoch 72/100\n",
      "11/11 [==============================] - 0s 8ms/step - loss: 0.3115 - accuracy: 0.8889\n",
      "Epoch 73/100\n",
      "11/11 [==============================] - 0s 10ms/step - loss: 0.3931 - accuracy: 0.8468\n",
      "Epoch 74/100\n",
      "11/11 [==============================] - 0s 11ms/step - loss: 0.3235 - accuracy: 0.8799\n",
      "Epoch 75/100\n",
      "11/11 [==============================] - 0s 8ms/step - loss: 0.3117 - accuracy: 0.8859\n",
      "Epoch 76/100\n",
      "11/11 [==============================] - 0s 11ms/step - loss: 0.2938 - accuracy: 0.9009\n",
      "Epoch 77/100\n",
      "11/11 [==============================] - 0s 8ms/step - loss: 0.3099 - accuracy: 0.8829\n",
      "Epoch 78/100\n",
      "11/11 [==============================] - 0s 25ms/step - loss: 0.3188 - accuracy: 0.8829\n",
      "Epoch 79/100\n",
      "11/11 [==============================] - 0s 10ms/step - loss: 0.3029 - accuracy: 0.9129\n",
      "Epoch 80/100\n",
      "11/11 [==============================] - 0s 8ms/step - loss: 0.3134 - accuracy: 0.8859\n",
      "Epoch 81/100\n",
      "11/11 [==============================] - 0s 8ms/step - loss: 0.3085 - accuracy: 0.8799\n",
      "Epoch 82/100\n"
     ]
    },
    {
     "name": "stdout",
     "output_type": "stream",
     "text": [
      "11/11 [==============================] - 0s 8ms/step - loss: 0.3160 - accuracy: 0.8709\n",
      "Epoch 83/100\n",
      "11/11 [==============================] - 0s 8ms/step - loss: 0.3630 - accuracy: 0.8619\n",
      "Epoch 84/100\n",
      "11/11 [==============================] - 0s 8ms/step - loss: 0.2840 - accuracy: 0.8949\n",
      "Epoch 85/100\n",
      "11/11 [==============================] - 0s 8ms/step - loss: 0.2987 - accuracy: 0.8709\n",
      "Epoch 86/100\n",
      "11/11 [==============================] - 0s 8ms/step - loss: 0.3569 - accuracy: 0.8198\n",
      "Epoch 87/100\n",
      "11/11 [==============================] - 0s 8ms/step - loss: 0.2944 - accuracy: 0.8979\n",
      "Epoch 88/100\n",
      "11/11 [==============================] - 0s 8ms/step - loss: 0.2661 - accuracy: 0.9249\n",
      "Epoch 89/100\n",
      "11/11 [==============================] - 0s 9ms/step - loss: 0.2735 - accuracy: 0.9039\n",
      "Epoch 90/100\n",
      "11/11 [==============================] - 0s 8ms/step - loss: 0.2536 - accuracy: 0.9189\n",
      "Epoch 91/100\n",
      "11/11 [==============================] - 0s 8ms/step - loss: 0.2567 - accuracy: 0.9189\n",
      "Epoch 92/100\n",
      "11/11 [==============================] - 0s 8ms/step - loss: 0.2676 - accuracy: 0.8979\n",
      "Epoch 93/100\n",
      "11/11 [==============================] - 0s 8ms/step - loss: 0.2544 - accuracy: 0.9129\n",
      "Epoch 94/100\n",
      "11/11 [==============================] - 0s 8ms/step - loss: 0.2600 - accuracy: 0.9039\n",
      "Epoch 95/100\n",
      "11/11 [==============================] - 0s 8ms/step - loss: 0.2502 - accuracy: 0.9219\n",
      "Epoch 96/100\n",
      "11/11 [==============================] - 0s 9ms/step - loss: 0.2394 - accuracy: 0.9159\n",
      "Epoch 97/100\n",
      "11/11 [==============================] - 0s 9ms/step - loss: 0.2517 - accuracy: 0.9159\n",
      "Epoch 98/100\n",
      "11/11 [==============================] - 0s 8ms/step - loss: 0.2393 - accuracy: 0.9159\n",
      "Epoch 99/100\n",
      "11/11 [==============================] - 0s 9ms/step - loss: 0.2461 - accuracy: 0.9069\n",
      "Epoch 100/100\n",
      "11/11 [==============================] - 0s 8ms/step - loss: 0.2882 - accuracy: 0.8829\n"
     ]
    },
    {
     "data": {
      "text/plain": [
       "<keras.callbacks.History at 0x2a2b6d52f10>"
      ]
     },
     "execution_count": 74,
     "metadata": {},
     "output_type": "execute_result"
    }
   ],
   "source": [
    "classifier.fit(X_train,\n",
    "              y_train,\n",
    "              batch_size= 32,\n",
    "              epochs=100)"
   ]
  },
  {
   "cell_type": "code",
   "execution_count": 75,
   "id": "a28ff4e2",
   "metadata": {},
   "outputs": [
    {
     "name": "stdout",
     "output_type": "stream",
     "text": [
      "WARNING:tensorflow:5 out of the last 11 calls to <function Model.make_predict_function.<locals>.predict_function at 0x000002A2B6B863E0> triggered tf.function retracing. Tracing is expensive and the excessive number of tracings could be due to (1) creating @tf.function repeatedly in a loop, (2) passing tensors with different shapes, (3) passing Python objects instead of tensors. For (1), please define your @tf.function outside of the loop. For (2), @tf.function has reduce_retracing=True option that can avoid unnecessary retracing. For (3), please refer to https://www.tensorflow.org/guide/function#controlling_retracing and https://www.tensorflow.org/api_docs/python/tf/function for  more details.\n",
      "1/1 [==============================] - 0s 238ms/step\n",
      "[[1.]]\n"
     ]
    }
   ],
   "source": [
    "print(classifier.predict([[1,1, 0,1,1,4276, 1542, 154, 240,0, 1]]))"
   ]
  },
  {
   "cell_type": "code",
   "execution_count": 76,
   "id": "5f32ab4f",
   "metadata": {},
   "outputs": [],
   "source": [
    "classifier.save(\"loan1.h5\")"
   ]
  },
  {
   "cell_type": "code",
   "execution_count": 77,
   "id": "364dad5c",
   "metadata": {},
   "outputs": [
    {
     "name": "stdout",
     "output_type": "stream",
     "text": [
      "WARNING:tensorflow:5 out of the last 11 calls to <function Model.make_predict_function.<locals>.predict_function at 0x000002A2B6B863E0> triggered tf.function retracing. Tracing is expensive and the excessive number of tracings could be due to (1) creating @tf.function repeatedly in a loop, (2) passing tensors with different shapes, (3) passing Python objects instead of tensors. For (1), please define your @tf.function outside of the loop. For (2), @tf.function has reduce_retracing=True option that can avoid unnecessary retracing. For (3), please refer to https://www.tensorflow.org/guide/function#controlling_retracing and https://www.tensorflow.org/api_docs/python/tf/function for  more details.\n",
      "6/6 [==============================] - 1s 16ms/step\n"
     ]
    }
   ],
   "source": [
    "y_pred = classifier.predict(X_test)"
   ]
  },
  {
   "cell_type": "code",
   "execution_count": 78,
   "id": "86da3be5",
   "metadata": {},
   "outputs": [
    {
     "data": {
      "text/plain": [
       "array([[2.9703051e-01],\n",
       "       [8.2322997e-01],\n",
       "       [1.0938784e-03],\n",
       "       [6.3614309e-02],\n",
       "       [5.9529882e-02],\n",
       "       [1.6019154e-01],\n",
       "       [7.1787703e-01],\n",
       "       [6.0024297e-01],\n",
       "       [2.7392784e-02],\n",
       "       [8.5561705e-01],\n",
       "       [9.6664947e-01],\n",
       "       [1.9500615e-01],\n",
       "       [8.8807344e-03],\n",
       "       [9.6286917e-01],\n",
       "       [6.3997680e-01],\n",
       "       [1.6679084e-01],\n",
       "       [6.4422387e-01],\n",
       "       [8.0529243e-01],\n",
       "       [7.6298624e-01],\n",
       "       [2.3362905e-01],\n",
       "       [9.1459233e-01],\n",
       "       [2.6261572e-05],\n",
       "       [3.5134245e-02],\n",
       "       [7.4738771e-01],\n",
       "       [2.1856809e-01],\n",
       "       [8.8818955e-01],\n",
       "       [2.8810993e-02],\n",
       "       [4.6801108e-01],\n",
       "       [6.0027134e-02],\n",
       "       [9.3141842e-01],\n",
       "       [1.6287512e-01],\n",
       "       [9.1382933e-01],\n",
       "       [3.7639126e-02],\n",
       "       [9.6023643e-01],\n",
       "       [1.6833453e-02],\n",
       "       [9.6164995e-01],\n",
       "       [4.0216997e-04],\n",
       "       [8.2169074e-01],\n",
       "       [9.3860060e-02],\n",
       "       [9.9872261e-01],\n",
       "       [5.3225911e-01],\n",
       "       [2.5290984e-04],\n",
       "       [3.9811335e-03],\n",
       "       [2.5605538e-01],\n",
       "       [9.8257327e-01],\n",
       "       [6.5407658e-01],\n",
       "       [3.6941770e-01],\n",
       "       [9.2987442e-01],\n",
       "       [3.7833038e-01],\n",
       "       [4.7486597e-03],\n",
       "       [9.7020751e-01],\n",
       "       [2.1249379e-01],\n",
       "       [2.6717627e-01],\n",
       "       [7.4423134e-01],\n",
       "       [8.9597017e-01],\n",
       "       [1.1628730e-01],\n",
       "       [2.3617095e-01],\n",
       "       [3.0413264e-01],\n",
       "       [2.1043836e-01],\n",
       "       [7.5374514e-01],\n",
       "       [1.5961882e-01],\n",
       "       [8.0641788e-01],\n",
       "       [1.2492687e-01],\n",
       "       [1.5438755e-01],\n",
       "       [9.4328523e-02],\n",
       "       [1.4944095e-02],\n",
       "       [1.7623805e-01],\n",
       "       [9.8509705e-01],\n",
       "       [8.2814142e-02],\n",
       "       [1.1330236e-01],\n",
       "       [9.7154409e-02],\n",
       "       [8.8185000e-01],\n",
       "       [9.5487481e-01],\n",
       "       [9.1184980e-01],\n",
       "       [2.6917142e-01],\n",
       "       [2.5848499e-01],\n",
       "       [7.8002089e-01],\n",
       "       [2.4451983e-01],\n",
       "       [7.2372311e-01],\n",
       "       [4.2742859e-03],\n",
       "       [9.2481565e-01],\n",
       "       [1.1245955e-01],\n",
       "       [7.5062329e-01],\n",
       "       [1.0895370e-01],\n",
       "       [3.9179730e-01],\n",
       "       [1.9740613e-02],\n",
       "       [8.2077291e-03],\n",
       "       [2.0592415e-01],\n",
       "       [6.1876744e-01],\n",
       "       [7.8111517e-01],\n",
       "       [8.4820963e-02],\n",
       "       [3.7462977e-01],\n",
       "       [9.5774949e-01],\n",
       "       [6.0959179e-03],\n",
       "       [8.3709908e-01],\n",
       "       [3.7350055e-02],\n",
       "       [1.3480759e-01],\n",
       "       [8.5399157e-01],\n",
       "       [1.8854696e-01],\n",
       "       [8.0615950e-01],\n",
       "       [3.4165736e-02],\n",
       "       [1.1764552e-02],\n",
       "       [8.7311679e-01],\n",
       "       [1.8875378e-01],\n",
       "       [7.6293749e-01],\n",
       "       [4.5136017e-01],\n",
       "       [2.7827880e-01],\n",
       "       [6.2193960e-01],\n",
       "       [7.9112017e-01],\n",
       "       [9.7389740e-01],\n",
       "       [7.9277724e-01],\n",
       "       [1.5323909e-01],\n",
       "       [9.3411952e-01],\n",
       "       [9.2863703e-01],\n",
       "       [8.7980008e-01],\n",
       "       [6.5307313e-01],\n",
       "       [2.3619548e-04],\n",
       "       [1.4479657e-01],\n",
       "       [7.9298741e-01],\n",
       "       [9.3476146e-01],\n",
       "       [2.5473529e-01],\n",
       "       [4.1323584e-03],\n",
       "       [5.6067497e-01],\n",
       "       [2.3758604e-01],\n",
       "       [7.5477344e-01],\n",
       "       [2.1213798e-01],\n",
       "       [8.4040248e-01],\n",
       "       [1.5567891e-02],\n",
       "       [1.3616605e-01],\n",
       "       [8.3793998e-01],\n",
       "       [5.7184976e-02],\n",
       "       [9.6523726e-01],\n",
       "       [5.2697207e-03],\n",
       "       [5.1108491e-01],\n",
       "       [4.6469183e-03],\n",
       "       [9.2614824e-01],\n",
       "       [5.1519572e-04],\n",
       "       [5.7216719e-02],\n",
       "       [9.3665414e-02],\n",
       "       [7.3832834e-01],\n",
       "       [9.1043586e-01],\n",
       "       [9.8813577e-03],\n",
       "       [2.9787627e-05],\n",
       "       [5.7229060e-01],\n",
       "       [1.6870784e-03],\n",
       "       [8.6122900e-01],\n",
       "       [1.4416972e-02],\n",
       "       [2.3203628e-01],\n",
       "       [6.0919988e-01],\n",
       "       [8.3854878e-01],\n",
       "       [2.7199367e-01],\n",
       "       [8.8917539e-03],\n",
       "       [5.4344463e-01],\n",
       "       [8.5114993e-02],\n",
       "       [1.3670960e-01],\n",
       "       [7.1453398e-01],\n",
       "       [2.9233356e-03],\n",
       "       [5.8382636e-01],\n",
       "       [3.4583509e-02],\n",
       "       [8.2477373e-01],\n",
       "       [5.0885087e-01],\n",
       "       [8.9121681e-01],\n",
       "       [6.0876215e-01],\n",
       "       [1.4863732e-01],\n",
       "       [1.9002354e-01]], dtype=float32)"
      ]
     },
     "execution_count": 78,
     "metadata": {},
     "output_type": "execute_result"
    }
   ],
   "source": [
    "y_pred"
   ]
  },
  {
   "cell_type": "code",
   "execution_count": null,
   "id": "a84cb822",
   "metadata": {},
   "outputs": [],
   "source": []
  }
 ],
 "metadata": {
  "kernelspec": {
   "display_name": "Python 3 (ipykernel)",
   "language": "python",
   "name": "python3"
  },
  "language_info": {
   "codemirror_mode": {
    "name": "ipython",
    "version": 3
   },
   "file_extension": ".py",
   "mimetype": "text/x-python",
   "name": "python",
   "nbconvert_exporter": "python",
   "pygments_lexer": "ipython3",
   "version": "3.11.2"
  }
 },
 "nbformat": 4,
 "nbformat_minor": 5
}
